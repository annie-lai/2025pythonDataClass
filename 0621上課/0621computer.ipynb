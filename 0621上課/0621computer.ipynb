{
 "cells": [
  {
   "cell_type": "markdown",
   "id": "56a96a69",
   "metadata": {},
   "source": [
    "vscode裡，open source的function可以右鍵：移至定義"
   ]
  },
  {
   "cell_type": "code",
   "execution_count": null,
   "id": "a732dea5",
   "metadata": {},
   "outputs": [
    {
     "data": {
      "text/plain": [
       "0.05233016849039174"
      ]
     },
     "execution_count": 1,
     "metadata": {},
     "output_type": "execute_result"
    }
   ],
   "source": [
    "import numpy as np\n",
    "np.random.random() #0到1之間隨機一個數"
   ]
  },
  {
   "cell_type": "code",
   "execution_count": null,
   "id": "045fc79b",
   "metadata": {},
   "outputs": [
    {
     "data": {
      "text/plain": [
       "array([0.51716481, 0.12397429, 0.80242127])"
      ]
     },
     "execution_count": 2,
     "metadata": {},
     "output_type": "execute_result"
    }
   ],
   "source": [
    "np.random.random(size=3) #引數名稱的呼叫\n",
    "np.random.random(3) #引數值呼叫，呼叫出一個實體"
   ]
  },
  {
   "cell_type": "code",
   "execution_count": 3,
   "id": "42f9dc7d",
   "metadata": {},
   "outputs": [
    {
     "data": {
      "text/plain": [
       "array([[0.50523418, 0.30597   , 0.34521134, 0.93172904],\n",
       "       [0.93267172, 0.55607604, 0.02618824, 0.61433688],\n",
       "       [0.76906463, 0.08915519, 0.93574642, 0.09406786]])"
      ]
     },
     "execution_count": 3,
     "metadata": {},
     "output_type": "execute_result"
    }
   ],
   "source": [
    "np.random.random((3,4)) #第一維3個數，第二維4個數"
   ]
  },
  {
   "cell_type": "code",
   "execution_count": 19,
   "id": "293dc186",
   "metadata": {},
   "outputs": [
    {
     "name": "stdout",
     "output_type": "stream",
     "text": [
      "<class 'numpy.ndarray'>\n",
      "[[101.71427594 101.70759077 100.5364456   99.25095071]\n",
      " [ 99.86594296 100.48225075  99.7309551   99.42449279]\n",
      " [100.63717194 100.127792   101.27511157 100.26305914]]\n"
     ]
    }
   ],
   "source": [
    "from numpy.random import normal #從numpy這個package裡的module（random）導入normal這個function\n",
    "nm = normal(size=(3,4),loc=100,scale=1) #引數名稱的呼叫不用照順序\n",
    "print(type(nm))\n",
    "print(nm)"
   ]
  },
  {
   "cell_type": "markdown",
   "id": "0b4d7750",
   "metadata": {},
   "source": [
    "ndarray的實體，可以做陣列運算（矩陣），也可以跑統計\n",
    "- 常用的實體屬性\n",
    " - ndim\n",
    " - size\n",
    " - shape\n",
    " - dtype\n",
    "- 常用的實體方法\n",
    " - sum()\n",
    " - mean()"
   ]
  },
  {
   "cell_type": "code",
   "execution_count": null,
   "id": "de33395f",
   "metadata": {},
   "outputs": [
    {
     "name": "stdout",
     "output_type": "stream",
     "text": [
      "2\n",
      "12\n",
      "(3, 4)\n",
      "float64\n"
     ]
    }
   ],
   "source": [
    "print(nm.ndim) #幾維\n",
    "print(nm.size) #大小（總共幾個元素）\n",
    "print(nm.shape) #各維大小\n",
    "print(nm.dtype) #元素的type"
   ]
  },
  {
   "cell_type": "code",
   "execution_count": null,
   "id": "feb61519",
   "metadata": {},
   "outputs": [
    {
     "data": {
      "text/plain": [
       "np.float64(1198.8045318960776)"
      ]
     },
     "execution_count": 10,
     "metadata": {},
     "output_type": "execute_result"
    }
   ],
   "source": [
    "nm.sum() #nm的所有數值加總"
   ]
  },
  {
   "cell_type": "code",
   "execution_count": 20,
   "id": "6b42c9ad",
   "metadata": {},
   "outputs": [
    {
     "name": "stdout",
     "output_type": "stream",
     "text": [
      "[302.21739084 302.31763352 301.54251227 298.93850264]\n",
      "[403.20926301 399.5036416  402.30313466]\n"
     ]
    }
   ],
   "source": [
    "sum0 = nm.sum(axis=0) #第一維加總\n",
    "sum1 = nm.sum(axis=1) #第二維加總\n",
    "print(sum0)\n",
    "print(sum1)"
   ]
  }
 ],
 "metadata": {
  "kernelspec": {
   "display_name": "0607env",
   "language": "python",
   "name": "python3"
  },
  "language_info": {
   "codemirror_mode": {
    "name": "ipython",
    "version": 3
   },
   "file_extension": ".py",
   "mimetype": "text/x-python",
   "name": "python",
   "nbconvert_exporter": "python",
   "pygments_lexer": "ipython3",
   "version": "3.10.18"
  }
 },
 "nbformat": 4,
 "nbformat_minor": 5
}
