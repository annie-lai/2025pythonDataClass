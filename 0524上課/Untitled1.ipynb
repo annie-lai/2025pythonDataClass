{
  "nbformat": 4,
  "nbformat_minor": 0,
  "metadata": {
    "colab": {
      "provenance": [],
      "authorship_tag": "ABX9TyPEKPRcfajvOEn0Vug+erAr",
      "include_colab_link": true
    },
    "kernelspec": {
      "name": "python3",
      "display_name": "Python 3"
    },
    "language_info": {
      "name": "python"
    }
  },
  "cells": [
    {
      "cell_type": "markdown",
      "metadata": {
        "id": "view-in-github",
        "colab_type": "text"
      },
      "source": [
        "<a href=\"https://colab.research.google.com/github/annie-lai/2025pythonDataClass/blob/main/0524%E4%B8%8A%E8%AA%B2/Untitled1.ipynb\" target=\"_parent\"><img src=\"https://colab.research.google.com/assets/colab-badge.svg\" alt=\"Open In Colab\"/></a>"
      ]
    },
    {
      "cell_type": "code",
      "execution_count": null,
      "metadata": {
        "id": "mZOV5zmx6h7k"
      },
      "outputs": [],
      "source": []
    },
    {
      "cell_type": "markdown",
      "source": [
        "- import：導入\n",
        "- random(module,package)\n",
        "- inmport random（導入內建的function）\n",
        "自訂funtion：用def建function\n",
        "\n",
        "##function的主要功能\n",
        "- 減化程式碼\n",
        "- 幫助邏輯思考\n",
        "- def function(參數)（definition定義功能）\n",
        "\n"
      ],
      "metadata": {
        "id": "3pXP6Sb_6kW-"
      }
    }
  ]
}