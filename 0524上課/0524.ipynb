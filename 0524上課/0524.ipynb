{
  "nbformat": 4,
  "nbformat_minor": 0,
  "metadata": {
    "colab": {
      "provenance": [],
      "authorship_tag": "ABX9TyPnF6axZvwmO6WljIvcZRq3",
      "include_colab_link": true
    },
    "kernelspec": {
      "name": "python3",
      "display_name": "Python 3"
    },
    "language_info": {
      "name": "python"
    }
  },
  "cells": [
    {
      "cell_type": "markdown",
      "metadata": {
        "id": "view-in-github",
        "colab_type": "text"
      },
      "source": [
        "<a href=\"https://colab.research.google.com/github/annie-lai/2025pythonDataClass/blob/main/0524%E4%B8%8A%E8%AA%B2/0524.ipynb\" target=\"_parent\"><img src=\"https://colab.research.google.com/assets/colab-badge.svg\" alt=\"Open In Colab\"/></a>"
      ]
    },
    {
      "cell_type": "code",
      "execution_count": null,
      "metadata": {
        "id": "mZOV5zmx6h7k"
      },
      "outputs": [],
      "source": []
    },
    {
      "cell_type": "markdown",
      "source": [
        "- import：導入\n",
        "- random(module,package)\n",
        "- inmport random（導入內建的function）\n",
        "自訂funtion：用def建function\n",
        "\n",
        "##function的主要功能\n",
        "- 減化程式碼\n",
        "- 幫助邏輯思考\n",
        "- def function(參數,參數...)（definition定義功能）\n",
        " - 參數：就是變數，有儲存資料\n",
        " - 傳出資料：return\n",
        "- 呼叫funtion(引數,引數……)\n",
        " - 引數：真正的值\n",
        " - 每個參數都要對應一個引數值\n",
        "- typehint：型別提示，可以加\n",
        " - def funtion(參數:引數,參數:引數)->會傳出什麼:\n",
        " - 「def funtion()->None:」：None表示不會傳出東西\n",
        " - VScode出現提示「python偵測到類型注釋（就是typehint）是否要自動……」不要按是，會讓環境變嚴格\n"
      ],
      "metadata": {
        "id": "3pXP6Sb_6kW-"
      }
    },
    {
      "cell_type": "markdown",
      "source": [
        "弱型別：有設定或沒設定都沒關係\n",
        "- 弱型別：python、javascript，其他語言都是強型別\n",
        "\n",
        "int：整數\n",
        "float：有小數點的數值\n",
        "```\n",
        "變數:int #提示型別是整數\n",
        "def bmi(h:int,w:int)->float: #h和w是整數 #傳出的值是有小數點的數\n",
        "\n",
        "\n",
        "```\n",
        "選取後ctrl+/：加上註解符號/取消註解符號"
      ],
      "metadata": {
        "id": "3XOxejtdAwzT"
      }
    },
    {
      "cell_type": "markdown",
      "source": [
        "查詢內建的變數：vars()"
      ],
      "metadata": {
        "id": "ulsDpA2LQXu_"
      }
    },
    {
      "cell_type": "code",
      "source": [
        "vars()"
      ],
      "metadata": {
        "id": "UPtlB-ByQhWG",
        "outputId": "b7798b3b-14e2-43fe-e6b2-dd83f3cca1ab",
        "colab": {
          "base_uri": "https://localhost:8080/"
        }
      },
      "execution_count": 1,
      "outputs": [
        {
          "output_type": "execute_result",
          "data": {
            "text/plain": [
              "{'__name__': '__main__',\n",
              " '__doc__': 'Automatically created module for IPython interactive environment',\n",
              " '__package__': None,\n",
              " '__loader__': None,\n",
              " '__spec__': None,\n",
              " '__builtin__': <module 'builtins' (built-in)>,\n",
              " '__builtins__': <module 'builtins' (built-in)>,\n",
              " '_ih': ['', 'vars()'],\n",
              " '_oh': {},\n",
              " '_dh': ['/content'],\n",
              " 'In': ['', 'vars()'],\n",
              " 'Out': {},\n",
              " 'get_ipython': <bound method InteractiveShell.get_ipython of <google.colab._shell.Shell object at 0x7ccaea019610>>,\n",
              " 'exit': <IPython.core.autocall.ZMQExitAutocall at 0x7ccaea02c8d0>,\n",
              " 'quit': <IPython.core.autocall.ZMQExitAutocall at 0x7ccaea02c8d0>,\n",
              " '_': '',\n",
              " '__': '',\n",
              " '___': '',\n",
              " '_i': '',\n",
              " '_ii': '',\n",
              " '_iii': '',\n",
              " '_i1': 'vars()'}"
            ]
          },
          "metadata": {},
          "execution_count": 1
        }
      ]
    },
    {
      "cell_type": "code",
      "source": [
        "__name__"
      ],
      "metadata": {
        "id": "Ss9jT14KQvCM",
        "outputId": "9989cd09-2398-4711-ce49-7ca5466111f8",
        "colab": {
          "base_uri": "https://localhost:8080/",
          "height": 35
        }
      },
      "execution_count": 2,
      "outputs": [
        {
          "output_type": "execute_result",
          "data": {
            "text/plain": [
              "'__main__'"
            ],
            "application/vnd.google.colaboratory.intrinsic+json": {
              "type": "string"
            }
          },
          "metadata": {},
          "execution_count": 2
        }
      ]
    },
    {
      "cell_type": "markdown",
      "source": [
        "主程式：python在執行的程式是__main__（主程式）\n",
        "##應用程式架構\n",
        "```\n",
        "import...\n",
        "import...\n",
        "\n",
        "def funtion()...\n",
        "\n",
        "def funtion()...\n",
        "\n",
        "def main() #定義整個主程式\n",
        "  主程式要做什麼\n",
        "\n",
        "if __name__ == '__main__':\n",
        "  main() #執行主程式\n",
        "```"
      ],
      "metadata": {
        "id": "_mV_TUi7R-0J"
      }
    }
  ]
}