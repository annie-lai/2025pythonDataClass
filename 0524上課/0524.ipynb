{
  "nbformat": 4,
  "nbformat_minor": 0,
  "metadata": {
    "colab": {
      "provenance": [],
      "authorship_tag": "ABX9TyOYpQWGN1Bx6vZoUja+TkQ0",
      "include_colab_link": true
    },
    "kernelspec": {
      "name": "python3",
      "display_name": "Python 3"
    },
    "language_info": {
      "name": "python"
    }
  },
  "cells": [
    {
      "cell_type": "markdown",
      "metadata": {
        "id": "view-in-github",
        "colab_type": "text"
      },
      "source": [
        "<a href=\"https://colab.research.google.com/github/annie-lai/2025pythonDataClass/blob/main/0524%E4%B8%8A%E8%AA%B2/0524.ipynb\" target=\"_parent\"><img src=\"https://colab.research.google.com/assets/colab-badge.svg\" alt=\"Open In Colab\"/></a>"
      ]
    },
    {
      "cell_type": "code",
      "execution_count": null,
      "metadata": {
        "id": "mZOV5zmx6h7k"
      },
      "outputs": [],
      "source": []
    },
    {
      "cell_type": "markdown",
      "source": [
        "- import：導入\n",
        "- random(module,package)\n",
        "- inmport random（導入內建的function）\n",
        "自訂funtion：用def建function\n",
        "\n",
        "##function的主要功能\n",
        "- 減化程式碼\n",
        "- 幫助邏輯思考\n",
        "- def function(參數,參數...)（definition定義功能）\n",
        " - 參數：就是變數，有儲存資料\n",
        " - 傳出資料：return\n",
        "- 呼叫funtion(引數,引數……)\n",
        " - 引數：真正的值\n",
        " - 每個參數都要對應一個引數值\n",
        "- typehint：型別提示，可以加\n",
        " - def funtion(參數:引數,參數:引數)->會傳出什麼:\n",
        " - 「def funtion()->None:」：None表示不會傳出東西\n",
        " - VScode出現提示「python偵測到類型注釋（就是typehint）是否要自動……」不要按是，會讓環境變嚴格\n"
      ],
      "metadata": {
        "id": "3pXP6Sb_6kW-"
      }
    }
  ]
}