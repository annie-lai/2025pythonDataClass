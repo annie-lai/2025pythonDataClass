{
  "nbformat": 4,
  "nbformat_minor": 0,
  "metadata": {
    "colab": {
      "provenance": [],
      "authorship_tag": "ABX9TyM7malXKMyaROVyAN8gjAm2",
      "include_colab_link": true
    },
    "kernelspec": {
      "name": "python3",
      "display_name": "Python 3"
    },
    "language_info": {
      "name": "python"
    }
  },
  "cells": [
    {
      "cell_type": "markdown",
      "metadata": {
        "id": "view-in-github",
        "colab_type": "text"
      },
      "source": [
        "<a href=\"https://colab.research.google.com/github/annie-lai/2025pythonDataClass/blob/main/0524%E4%B8%8A%E8%AA%B2/0524.ipynb\" target=\"_parent\"><img src=\"https://colab.research.google.com/assets/colab-badge.svg\" alt=\"Open In Colab\"/></a>"
      ]
    },
    {
      "cell_type": "markdown",
      "source": [
        "- import：導入\n",
        "- random(module,package)\n",
        "- inmport random（導入內建的function）\n",
        "自訂funtion：用def建function\n",
        "\n",
        "##function的主要功能\n",
        "- 減化程式碼\n",
        "- 幫助邏輯思考\n",
        "- def function(參數,參數...)（definition定義功能）\n",
        " - 參數：就是變數，有儲存資料\n",
        " - 傳出資料：return\n",
        "- 呼叫funtion(引數,引數……)\n",
        " - 引數：真正的值\n",
        " - 每個參數都要對應一個引數值\n",
        "- typehint：型別提示，可以加\n",
        " - def funtion(參數:引數,參數:引數)->會傳出什麼:\n",
        " - 「def funtion()->None:」：None表示不會傳出東西\n",
        " - VScode出現提示「python偵測到類型注釋（就是typehint）是否要自動……」不要按是，會讓環境變嚴格\n",
        "\n",
        "##呼叫function\n",
        "- 引數值的呼叫\n",
        "- 引數名稱的呼叫：可以不依照順序\n",
        "- 混合呼叫（最常用到）：前面用引數值的呼叫，後面用引數名稱的呼叫，用引數名稱後全都要用引數名稱"
      ],
      "metadata": {
        "id": "3pXP6Sb_6kW-"
      }
    },
    {
      "cell_type": "code",
      "source": [
        "def bir(name:str, birthday:str, role:str)->None:\n",
        "  print(f\"名字：{name}\")\n",
        "  print(f\"生日:{birthday}\")\n",
        "  print(f\"身份組:{role}\")\n",
        "#引數值的呼叫：\n",
        "bir(\"annie\", \"0131\", \"test\")"
      ],
      "metadata": {
        "id": "HZp1nX46DkAb",
        "outputId": "49e845eb-ce45-4205-a7ea-cd9b2f13ce23",
        "colab": {
          "base_uri": "https://localhost:8080/"
        }
      },
      "execution_count": null,
      "outputs": [
        {
          "output_type": "stream",
          "name": "stdout",
          "text": [
            "名字：annie\n",
            "生日:0131\n",
            "身份組:test\n"
          ]
        }
      ]
    },
    {
      "cell_type": "code",
      "source": [
        "#引數名稱的呼叫：\n",
        "bir(birthday=\"0131\",name=\"annie\", role=\"test2\")\n"
      ],
      "metadata": {
        "id": "VC-k4XjaFgqV",
        "outputId": "5730d1d4-a53a-4f64-e1a6-1d8b879b500c",
        "colab": {
          "base_uri": "https://localhost:8080/"
        }
      },
      "execution_count": null,
      "outputs": [
        {
          "output_type": "stream",
          "name": "stdout",
          "text": [
            "名字：annie\n",
            "生日:0131\n",
            "身份組:test2\n"
          ]
        }
      ]
    },
    {
      "cell_type": "code",
      "source": [
        "#混合呼叫\n",
        "bir(\"annie\", role=\"test3\", birthday=\"0131\")"
      ],
      "metadata": {
        "id": "1BslgtBHKj5n",
        "outputId": "ab8fa213-9111-4b9e-daed-46a44b89ec1d",
        "colab": {
          "base_uri": "https://localhost:8080/"
        }
      },
      "execution_count": 4,
      "outputs": [
        {
          "output_type": "stream",
          "name": "stdout",
          "text": [
            "名字：annie\n",
            "生日:0131\n",
            "身份組:test3\n"
          ]
        }
      ]
    },
    {
      "cell_type": "markdown",
      "source": [
        "###定義的function參數，可以有預設值（default）\n",
        "- 預設值一定放在最後\n",
        "- 沒有預設的參數，用引數值呼叫\n",
        "- 要改預設的參數，就用引數名稱的呼叫\n",
        "- 全都有設定預設值，呼叫function的時候可以不用輸入值"
      ],
      "metadata": {
        "id": "RuyHJPLCMDeE"
      }
    },
    {
      "cell_type": "code",
      "source": [
        "def bir(name:str, birthday:str, role:str='村民')->None: #role的預設值是「村民」\n",
        "  print(f\"名字：{name}\")\n",
        "  print(f\"生日:{birthday}\")\n",
        "  print(f\"身份組:{role}\")"
      ],
      "metadata": {
        "id": "sZL7zFuzMODy"
      },
      "execution_count": 6,
      "outputs": []
    },
    {
      "cell_type": "code",
      "source": [
        "bir(\"annie\", \"0131\")"
      ],
      "metadata": {
        "id": "tpNoBJQCMiBB",
        "outputId": "52970fd3-e59e-42a6-82d5-741b9f96b231",
        "colab": {
          "base_uri": "https://localhost:8080/"
        }
      },
      "execution_count": 7,
      "outputs": [
        {
          "output_type": "stream",
          "name": "stdout",
          "text": [
            "名字：annie\n",
            "生日:0131\n",
            "身份組:村民\n"
          ]
        }
      ]
    },
    {
      "cell_type": "code",
      "source": [
        "bir(\"annie\", \"0131\", \"test4\")"
      ],
      "metadata": {
        "id": "ue0EFJFzMwnJ",
        "outputId": "60f044e9-8366-412a-f545-9fac42e9542d",
        "colab": {
          "base_uri": "https://localhost:8080/"
        }
      },
      "execution_count": 8,
      "outputs": [
        {
          "output_type": "stream",
          "name": "stdout",
          "text": [
            "名字：annie\n",
            "生日:0131\n",
            "身份組:test4\n"
          ]
        }
      ]
    },
    {
      "cell_type": "code",
      "source": [
        "def bir(birthday:str, name:str='暱名成員', role:str='村民')->None:\n",
        "  print(f\"名字：{name}\")\n",
        "  print(f\"生日:{birthday}\")\n",
        "  print(f\"身份組:{role}\")\n",
        "\n",
        "bir(\"0131\")"
      ],
      "metadata": {
        "id": "HGaCFrx1NL0Y",
        "outputId": "596bc8d7-a4da-4aa0-9e68-2bab02fa1107",
        "colab": {
          "base_uri": "https://localhost:8080/"
        }
      },
      "execution_count": 10,
      "outputs": [
        {
          "output_type": "stream",
          "name": "stdout",
          "text": [
            "名字：暱名成員\n",
            "生日:0131\n",
            "身份組:村民\n"
          ]
        }
      ]
    },
    {
      "cell_type": "markdown",
      "source": [
        "**前面有*後面就不能有預設值**\n",
        "\n",
        "- 「*參數名稱」：沒有限制數量的引數值的呼叫（得到tuple）\n",
        "- 「**參數名稱」：沒有限制數量的引數名稱呼叫（得到辭典物件）\n",
        " - 「*參數名稱」\n",
        " -一定在\n",
        " -「**參數名稱」之前\n",
        "- 在funtion的參數出現「*」：在這之後的參數都要用引數名稱呼叫\n",
        "- 在funtion的參數出現「/」：在這之前的參數都要用引數值呼叫"
      ],
      "metadata": {
        "id": "2NnQkSSiRaXs"
      }
    },
    {
      "cell_type": "code",
      "source": [
        "def bir(name:str, birthday:str, *role:str, **other)->None:\n",
        "  print(f\"名字：{name}\")\n",
        "  print(f\"生日:{birthday}\")\n",
        "  print(f\"身份組:{role}\")\n",
        "  print(f\"其他設定：{other}\")\n",
        "\n",
        "bir(\"annie\", \"0131\", \"DD\",\"村民\", test1=123, test2=456)"
      ],
      "metadata": {
        "id": "d2DFOaCRRpty",
        "outputId": "94e5d9d5-7392-4399-e453-6a8dfd4a0189",
        "colab": {
          "base_uri": "https://localhost:8080/"
        }
      },
      "execution_count": 13,
      "outputs": [
        {
          "output_type": "stream",
          "name": "stdout",
          "text": [
            "名字：annie\n",
            "生日:0131\n",
            "身份組:('DD', '村民')\n",
            "其他設定：{'test1': 123, 'test2': 456}\n"
          ]
        }
      ]
    },
    {
      "cell_type": "code",
      "source": [
        "#print的參數：end、sep\n",
        "print(1,2,\"a\",\"b\",end = f\"最後面\\n\", sep = \"-\" ),print(1 ,2) #end=放在最後面的 #sep=中間的分隔要用什麼符號（預設是空格）"
      ],
      "metadata": {
        "id": "R-kwyNtTU4zq",
        "outputId": "59d00014-b4b2-48d6-8398-0b5bd627e9f0",
        "colab": {
          "base_uri": "https://localhost:8080/"
        }
      },
      "execution_count": 24,
      "outputs": [
        {
          "output_type": "stream",
          "name": "stdout",
          "text": [
            "1-2-a-b最後面\n",
            "1 2\n"
          ]
        },
        {
          "output_type": "execute_result",
          "data": {
            "text/plain": [
              "(None, None)"
            ]
          },
          "metadata": {},
          "execution_count": 24
        }
      ]
    },
    {
      "cell_type": "markdown",
      "source": [
        "弱型別：有設定或沒設定都沒關係\n",
        "- 弱型別：python、javascript，其他語言都是強型別\n",
        "\n",
        "int：整數\n",
        "float：有小數點的數值\n",
        "```\n",
        "變數:int #提示型別是整數\n",
        "def bmi(h:int,w:int)->float: #h和w是整數 #傳出的值是有小數點的數\n",
        "\n",
        "\n",
        "```\n",
        "選取後ctrl+/：加上註解符號/取消註解符號"
      ],
      "metadata": {
        "id": "3XOxejtdAwzT"
      }
    },
    {
      "cell_type": "markdown",
      "source": [
        "查詢內建的變數：vars()"
      ],
      "metadata": {
        "id": "ulsDpA2LQXu_"
      }
    },
    {
      "cell_type": "code",
      "source": [
        "vars()"
      ],
      "metadata": {
        "id": "UPtlB-ByQhWG",
        "outputId": "b7798b3b-14e2-43fe-e6b2-dd83f3cca1ab",
        "colab": {
          "base_uri": "https://localhost:8080/"
        }
      },
      "execution_count": null,
      "outputs": [
        {
          "output_type": "execute_result",
          "data": {
            "text/plain": [
              "{'__name__': '__main__',\n",
              " '__doc__': 'Automatically created module for IPython interactive environment',\n",
              " '__package__': None,\n",
              " '__loader__': None,\n",
              " '__spec__': None,\n",
              " '__builtin__': <module 'builtins' (built-in)>,\n",
              " '__builtins__': <module 'builtins' (built-in)>,\n",
              " '_ih': ['', 'vars()'],\n",
              " '_oh': {},\n",
              " '_dh': ['/content'],\n",
              " 'In': ['', 'vars()'],\n",
              " 'Out': {},\n",
              " 'get_ipython': <bound method InteractiveShell.get_ipython of <google.colab._shell.Shell object at 0x7ccaea019610>>,\n",
              " 'exit': <IPython.core.autocall.ZMQExitAutocall at 0x7ccaea02c8d0>,\n",
              " 'quit': <IPython.core.autocall.ZMQExitAutocall at 0x7ccaea02c8d0>,\n",
              " '_': '',\n",
              " '__': '',\n",
              " '___': '',\n",
              " '_i': '',\n",
              " '_ii': '',\n",
              " '_iii': '',\n",
              " '_i1': 'vars()'}"
            ]
          },
          "metadata": {},
          "execution_count": 1
        }
      ]
    },
    {
      "cell_type": "code",
      "source": [
        "__name__"
      ],
      "metadata": {
        "id": "Ss9jT14KQvCM",
        "outputId": "9989cd09-2398-4711-ce49-7ca5466111f8",
        "colab": {
          "base_uri": "https://localhost:8080/",
          "height": 35
        }
      },
      "execution_count": null,
      "outputs": [
        {
          "output_type": "execute_result",
          "data": {
            "text/plain": [
              "'__main__'"
            ],
            "application/vnd.google.colaboratory.intrinsic+json": {
              "type": "string"
            }
          },
          "metadata": {},
          "execution_count": 2
        }
      ]
    },
    {
      "cell_type": "markdown",
      "source": [
        "主程式：python在執行的程式是__main__（主程式）\n",
        "##應用程式架構\n",
        "```\n",
        "import...\n",
        "import...\n",
        "\n",
        "def funtion()...\n",
        "\n",
        "def funtion()...\n",
        "\n",
        "def main() #定義整個主程式\n",
        "  主程式要做什麼\n",
        "\n",
        "if __name__ == '__main__':\n",
        "  main() #執行主程式\n",
        "```\n",
        "###建立moudule\n",
        "一個py檔就是一個module，自訂的module不是主執行檔\n",
        "- 結構化專案\n",
        "- 把funtion另存在其他py檔，建立自訂moudule\n",
        "- 主專案.py裡import自訂的moudule，就可以用自訂的moudule的function\n",
        "\n",
        "###package\n",
        "- 專案資料夾：\n",
        " - 主執行檔.py\n",
        " - module.py\n",
        " - __init__.py\n",
        "```\n",
        "__init__.py\n",
        "from . import tools\n",
        "```\n",
        "- from：從哪個工具找出功能\n",
        "- from module或package import 裡面的fumction\n",
        "- from module或package import 裡面function as（這個叫什麼） 命名\n",
        "\n",
        "```\n",
        "#import edu\n",
        "#from edu.tools import caculate_bmi,get_state\n",
        "from edu.tools import caculate_bmi as a1 #這個pacakage（edu）的moudule（bmi_calculate）裡的function（bmi）叫a1\n",
        "from edu.tools import get_state as a2\n",
        "```\n",
        "\n",
        "##自訂的function，目的是結構化程式碼\n",
        "##自訂的module、package，目的是結構化專案\n",
        "---\n",
        "用python做視窗介面應用程式：tkinter\n",
        "- 老師的pythonWindow有教學\n",
        "---\n",
        "##Vibe Coding：開發者透過自然語言向AI描述需求，由AI自動生成程式碼\n",
        "- 寫程式的AI：Claude\n",
        "---\n",
        "在VScode新增「.gitignore」：可以放暫存檔，告訴git忽略這些檔案（不要上傳）"
      ],
      "metadata": {
        "id": "_mV_TUi7R-0J"
      }
    }
  ]
}