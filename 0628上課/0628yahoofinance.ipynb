{
 "cells": [
  {
   "cell_type": "code",
   "execution_count": 9,
   "id": "f0a8db48",
   "metadata": {},
   "outputs": [
    {
     "name": "stderr",
     "output_type": "stream",
     "text": [
      "[*********************100%***********************]  1 of 1 completed\n",
      "[*********************100%***********************]  1 of 1 completed\n",
      "[*********************100%***********************]  1 of 1 completed\n",
      "[*********************100%***********************]  1 of 1 completed\n"
     ]
    },
    {
     "data": {
      "text/html": [
       "<div>\n",
       "<style scoped>\n",
       "    .dataframe tbody tr th:only-of-type {\n",
       "        vertical-align: middle;\n",
       "    }\n",
       "\n",
       "    .dataframe tbody tr th {\n",
       "        vertical-align: top;\n",
       "    }\n",
       "\n",
       "    .dataframe thead tr th {\n",
       "        text-align: left;\n",
       "    }\n",
       "\n",
       "    .dataframe thead tr:last-of-type th {\n",
       "        text-align: right;\n",
       "    }\n",
       "</style>\n",
       "<table border=\"1\" class=\"dataframe\">\n",
       "  <thead>\n",
       "    <tr>\n",
       "      <th>Price</th>\n",
       "      <th>Close</th>\n",
       "      <th>High</th>\n",
       "      <th>Low</th>\n",
       "      <th>Open</th>\n",
       "      <th>Volume</th>\n",
       "    </tr>\n",
       "    <tr>\n",
       "      <th>Ticker</th>\n",
       "      <th>2330.TW</th>\n",
       "      <th>2330.TW</th>\n",
       "      <th>2330.TW</th>\n",
       "      <th>2330.TW</th>\n",
       "      <th>2330.TW</th>\n",
       "    </tr>\n",
       "    <tr>\n",
       "      <th>Date</th>\n",
       "      <th></th>\n",
       "      <th></th>\n",
       "      <th></th>\n",
       "      <th></th>\n",
       "      <th></th>\n",
       "    </tr>\n",
       "  </thead>\n",
       "  <tbody>\n",
       "    <tr>\n",
       "      <th>2025-01-02</th>\n",
       "      <td>1065.0</td>\n",
       "      <td>1075.0</td>\n",
       "      <td>1055.0</td>\n",
       "      <td>1070.0</td>\n",
       "      <td>43177098</td>\n",
       "    </tr>\n",
       "    <tr>\n",
       "      <th>2025-01-03</th>\n",
       "      <td>1075.0</td>\n",
       "      <td>1085.0</td>\n",
       "      <td>1075.0</td>\n",
       "      <td>1080.0</td>\n",
       "      <td>30415096</td>\n",
       "    </tr>\n",
       "    <tr>\n",
       "      <th>2025-01-06</th>\n",
       "      <td>1125.0</td>\n",
       "      <td>1125.0</td>\n",
       "      <td>1095.0</td>\n",
       "      <td>1100.0</td>\n",
       "      <td>69289786</td>\n",
       "    </tr>\n",
       "    <tr>\n",
       "      <th>2025-01-07</th>\n",
       "      <td>1130.0</td>\n",
       "      <td>1160.0</td>\n",
       "      <td>1130.0</td>\n",
       "      <td>1150.0</td>\n",
       "      <td>48758688</td>\n",
       "    </tr>\n",
       "    <tr>\n",
       "      <th>2025-01-08</th>\n",
       "      <td>1105.0</td>\n",
       "      <td>1130.0</td>\n",
       "      <td>1105.0</td>\n",
       "      <td>1110.0</td>\n",
       "      <td>45211419</td>\n",
       "    </tr>\n",
       "  </tbody>\n",
       "</table>\n",
       "</div>"
      ],
      "text/plain": [
       "Price        Close    High     Low    Open    Volume\n",
       "Ticker     2330.TW 2330.TW 2330.TW 2330.TW   2330.TW\n",
       "Date                                                \n",
       "2025-01-02  1065.0  1075.0  1055.0  1070.0  43177098\n",
       "2025-01-03  1075.0  1085.0  1075.0  1080.0  30415096\n",
       "2025-01-06  1125.0  1125.0  1095.0  1100.0  69289786\n",
       "2025-01-07  1130.0  1160.0  1130.0  1150.0  48758688\n",
       "2025-01-08  1105.0  1130.0  1105.0  1110.0  45211419"
      ]
     },
     "execution_count": 9,
     "metadata": {},
     "output_type": "execute_result"
    }
   ],
   "source": [
    "import yfinance as yf\n",
    "#抓美股直接寫股票代號，抓台服後面要加.TW\n",
    "tw2330 = yf.download('2330.TW', start='2025-01-01',end='2025-06-01',auto_adjust=True) #台積電\n",
    "tw2303 = yf.download('2303.TW', start='2025-01-01',end='2025-06-01',auto_adjust=True) #聯電\n",
    "tw2454 = yf.download('2454.TW', start='2025-01-01',end='2025-06-01',auto_adjust=True) #聯發科\n",
    "tw2317 = yf.download('2317.TW', start='2025-01-01',end='2025-06-01',auto_adjust=True) #鴻海\n",
    "#head：前五筆；tail：後五筆\n",
    "tw2330.head()"
   ]
  },
  {
   "cell_type": "code",
   "execution_count": null,
   "id": "c3469e5e",
   "metadata": {},
   "outputs": [
    {
     "name": "stdout",
     "output_type": "stream",
     "text": [
      "<class 'pandas.core.frame.DataFrame'>\n",
      "DatetimeIndex: 95 entries, 2025-01-02 to 2025-05-29\n",
      "Data columns (total 5 columns):\n",
      " #   Column             Non-Null Count  Dtype  \n",
      "---  ------             --------------  -----  \n",
      " 0   (Close, 2330.TW)   95 non-null     float64\n",
      " 1   (High, 2330.TW)    95 non-null     float64\n",
      " 2   (Low, 2330.TW)     95 non-null     float64\n",
      " 3   (Open, 2330.TW)    95 non-null     float64\n",
      " 4   (Volume, 2330.TW)  95 non-null     int64  \n",
      "dtypes: float64(4), int64(1)\n",
      "memory usage: 4.5 KB\n"
     ]
    }
   ],
   "source": [
    "#先檢查資訊\n",
    "tw2330.info()"
   ]
  },
  {
   "cell_type": "markdown",
   "id": "2c12976b",
   "metadata": {},
   "source": [
    "column有(Close, 2330.TW)：表示欄位有兩個"
   ]
  },
  {
   "cell_type": "code",
   "execution_count": null,
   "id": "63a2beab",
   "metadata": {},
   "outputs": [
    {
     "data": {
      "text/html": [
       "<div>\n",
       "<style scoped>\n",
       "    .dataframe tbody tr th:only-of-type {\n",
       "        vertical-align: middle;\n",
       "    }\n",
       "\n",
       "    .dataframe tbody tr th {\n",
       "        vertical-align: top;\n",
       "    }\n",
       "\n",
       "    .dataframe thead th {\n",
       "        text-align: right;\n",
       "    }\n",
       "</style>\n",
       "<table border=\"1\" class=\"dataframe\">\n",
       "  <thead>\n",
       "    <tr style=\"text-align: right;\">\n",
       "      <th>Ticker</th>\n",
       "      <th>2330.TW</th>\n",
       "    </tr>\n",
       "    <tr>\n",
       "      <th>Date</th>\n",
       "      <th></th>\n",
       "    </tr>\n",
       "  </thead>\n",
       "  <tbody>\n",
       "    <tr>\n",
       "      <th>2025-01-02</th>\n",
       "      <td>1065.0</td>\n",
       "    </tr>\n",
       "    <tr>\n",
       "      <th>2025-01-03</th>\n",
       "      <td>1075.0</td>\n",
       "    </tr>\n",
       "    <tr>\n",
       "      <th>2025-01-06</th>\n",
       "      <td>1125.0</td>\n",
       "    </tr>\n",
       "    <tr>\n",
       "      <th>2025-01-07</th>\n",
       "      <td>1130.0</td>\n",
       "    </tr>\n",
       "    <tr>\n",
       "      <th>2025-01-08</th>\n",
       "      <td>1105.0</td>\n",
       "    </tr>\n",
       "    <tr>\n",
       "      <th>...</th>\n",
       "      <td>...</td>\n",
       "    </tr>\n",
       "    <tr>\n",
       "      <th>2025-05-23</th>\n",
       "      <td>984.0</td>\n",
       "    </tr>\n",
       "    <tr>\n",
       "      <th>2025-05-26</th>\n",
       "      <td>976.0</td>\n",
       "    </tr>\n",
       "    <tr>\n",
       "      <th>2025-05-27</th>\n",
       "      <td>965.0</td>\n",
       "    </tr>\n",
       "    <tr>\n",
       "      <th>2025-05-28</th>\n",
       "      <td>967.0</td>\n",
       "    </tr>\n",
       "    <tr>\n",
       "      <th>2025-05-29</th>\n",
       "      <td>967.0</td>\n",
       "    </tr>\n",
       "  </tbody>\n",
       "</table>\n",
       "<p>95 rows × 1 columns</p>\n",
       "</div>"
      ],
      "text/plain": [
       "Ticker      2330.TW\n",
       "Date               \n",
       "2025-01-02   1065.0\n",
       "2025-01-03   1075.0\n",
       "2025-01-06   1125.0\n",
       "2025-01-07   1130.0\n",
       "2025-01-08   1105.0\n",
       "...             ...\n",
       "2025-05-23    984.0\n",
       "2025-05-26    976.0\n",
       "2025-05-27    965.0\n",
       "2025-05-28    967.0\n",
       "2025-05-29    967.0\n",
       "\n",
       "[95 rows x 1 columns]"
      ]
     },
     "execution_count": 7,
     "metadata": {},
     "output_type": "execute_result"
    }
   ],
   "source": [
    "tw2330['Close']"
   ]
  },
  {
   "cell_type": "code",
   "execution_count": null,
   "id": "6f6e31de",
   "metadata": {},
   "outputs": [
    {
     "data": {
      "text/plain": [
       "Date\n",
       "2025-01-02    1065.0\n",
       "2025-01-03    1075.0\n",
       "2025-01-06    1125.0\n",
       "2025-01-07    1130.0\n",
       "2025-01-08    1105.0\n",
       "               ...  \n",
       "2025-05-23     984.0\n",
       "2025-05-26     976.0\n",
       "2025-05-27     965.0\n",
       "2025-05-28     967.0\n",
       "2025-05-29     967.0\n",
       "Name: 2330.TW, Length: 95, dtype: float64"
      ]
     },
     "execution_count": 8,
     "metadata": {},
     "output_type": "execute_result"
    }
   ],
   "source": [
    "tw2330['Close']['2330.TW']"
   ]
  }
 ],
 "metadata": {
  "kernelspec": {
   "display_name": "0607env",
   "language": "python",
   "name": "python3"
  },
  "language_info": {
   "codemirror_mode": {
    "name": "ipython",
    "version": 3
   },
   "file_extension": ".py",
   "mimetype": "text/x-python",
   "name": "python",
   "nbconvert_exporter": "python",
   "pygments_lexer": "ipython3",
   "version": "3.10.18"
  }
 },
 "nbformat": 4,
 "nbformat_minor": 5
}
