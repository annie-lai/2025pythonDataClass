{
  "nbformat": 4,
  "nbformat_minor": 0,
  "metadata": {
    "colab": {
      "provenance": [],
      "authorship_tag": "ABX9TyOViNCM4kzwCd6YVH3nZ0ow",
      "include_colab_link": true
    },
    "kernelspec": {
      "name": "python3",
      "display_name": "Python 3"
    },
    "language_info": {
      "name": "python"
    }
  },
  "cells": [
    {
      "cell_type": "markdown",
      "metadata": {
        "id": "view-in-github",
        "colab_type": "text"
      },
      "source": [
        "<a href=\"https://colab.research.google.com/github/annie-lai/2025pythonDataClass/blob/main/0503%E4%B8%8A%E8%AA%B2/0503%E4%B8%8A%E8%AA%B2.ipynb\" target=\"_parent\"><img src=\"https://colab.research.google.com/assets/colab-badge.svg\" alt=\"Open In Colab\"/></a>"
      ]
    },
    {
      "cell_type": "markdown",
      "source": [
        "這格文字區是md語法\n",
        "# 一個井字是標題1\n",
        "## 兩個井字是標題2\n",
        "### 三個井\n",
        "#### 四個井\n",
        "##### 五個井\n",
        "###### 最多六個井\n"
      ],
      "metadata": {
        "id": "6uyXzn4fLOt4"
      }
    },
    {
      "cell_type": "code",
      "execution_count": null,
      "metadata": {
        "colab": {
          "base_uri": "https://localhost:8080/"
        },
        "id": "22jQ2jQnCWFx",
        "outputId": "9f9ad6ab-1955-446d-bd69-b03ee84fe101"
      },
      "outputs": [
        {
          "output_type": "stream",
          "name": "stdout",
          "text": [
            "今天是5/3禮拜六\n"
          ]
        }
      ],
      "source": [
        "##程式碼\n",
        "print(\"今天是5/3禮拜六\")"
      ]
    },
    {
      "cell_type": "markdown",
      "source": [
        "筆記：\n",
        "\n",
        "1.xxx.ipynb：ipynon+notebook（python的編輯器，jupyter notebook），在google colab不用安裝，自己的電腦要安裝（？\n",
        "\n",
        "2.python能自己用的特殊符號只有底線_，檔名只能_，不要用其他特殊符號，取檔名的時候不要空一格（會觸發指令導致錯誤）\n",
        "\n",
        "3.程式：進行數學運算。"
      ],
      "metadata": {
        "id": "8nH3oUsyS94H"
      }
    },
    {
      "cell_type": "code",
      "source": [
        "##數學運算，數字和運算子之間可空可不空（空格不影響）\n",
        "##「**」是次方\n",
        "print(3**3)\n",
        "##「/」是浮點數除法（算出來有小數點），「//」是除法算出來整數位（無條件捨去）\n",
        "b=3/2\n",
        "c=3//2\n",
        "##「%」是除完的餘數\n",
        "d=5%3\n",
        "##最後跑完只會顯示最後一行的結果，所以要用print顯示輸出\n",
        "print(b,c)\n",
        "d"
      ],
      "metadata": {
        "colab": {
          "base_uri": "https://localhost:8080/"
        },
        "id": "dURIGOI1QP4N",
        "outputId": "0851a377-6948-4278-ac83-9a2a9d01668a"
      },
      "execution_count": 12,
      "outputs": [
        {
          "output_type": "stream",
          "name": "stdout",
          "text": [
            "27\n",
            "1.5 1\n"
          ]
        },
        {
          "output_type": "execute_result",
          "data": {
            "text/plain": [
              "2"
            ]
          },
          "metadata": {},
          "execution_count": 12
        }
      ]
    }
  ]
}