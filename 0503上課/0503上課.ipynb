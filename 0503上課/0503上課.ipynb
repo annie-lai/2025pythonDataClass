{
  "nbformat": 4,
  "nbformat_minor": 0,
  "metadata": {
    "colab": {
      "provenance": [],
      "authorship_tag": "ABX9TyOtZbR+z13EtaDfDxITvHM4",
      "include_colab_link": true
    },
    "kernelspec": {
      "name": "python3",
      "display_name": "Python 3"
    },
    "language_info": {
      "name": "python"
    }
  },
  "cells": [
    {
      "cell_type": "markdown",
      "metadata": {
        "id": "view-in-github",
        "colab_type": "text"
      },
      "source": [
        "<a href=\"https://colab.research.google.com/github/annie-lai/2025pythonDataClass/blob/main/0503%E4%B8%8A%E8%AA%B2/0503%E4%B8%8A%E8%AA%B2.ipynb\" target=\"_parent\"><img src=\"https://colab.research.google.com/assets/colab-badge.svg\" alt=\"Open In Colab\"/></a>"
      ]
    },
    {
      "cell_type": "markdown",
      "source": [
        "這格文字區是md語法\n",
        "# 一個井字是標題1\n",
        "## 兩個井字是標題2\n",
        "### 三個井\n",
        "#### 四個井\n",
        "##### 五個井\n",
        "###### 最多六個井\n",
        "\n",
        "一個enter\n",
        "不會換行\n",
        "\n",
        "兩個enter才會換行\n",
        "\n",
        "加「-」表示標記項目（可以用「+」和「*」代替，這叫「無序符號」），要記得加空格\n",
        "- 項目1\n",
        "- 項目2\n",
        " - 在「-」前面加空格，就會是縮排項目\n"
      ],
      "metadata": {
        "id": "6uyXzn4fLOt4"
      }
    },
    {
      "cell_type": "code",
      "execution_count": null,
      "metadata": {
        "colab": {
          "base_uri": "https://localhost:8080/"
        },
        "id": "22jQ2jQnCWFx",
        "outputId": "9f9ad6ab-1955-446d-bd69-b03ee84fe101"
      },
      "outputs": [
        {
          "output_type": "stream",
          "name": "stdout",
          "text": [
            "今天是5/3禮拜六\n"
          ]
        }
      ],
      "source": [
        "##這是一個儲存格\n",
        "##程式碼\n",
        "print(\"今天是5/3禮拜六\")"
      ]
    },
    {
      "cell_type": "markdown",
      "source": [
        "筆記：\n",
        "\n",
        "1.xxx.ipynb：ipynon+notebook（python的編輯器，jupyter notebook），在google colab不用安裝，自己的電腦要安裝（？\n",
        "\n",
        "2.python能自己用的特殊符號只有底線_，檔名只能_，不要用其他特殊符號，取檔名的時候不要空一格（會觸發指令導致錯誤）\n",
        "\n",
        "3.程式：進行數學運算。\n",
        "\n",
        "4.md語法：https://gist.github.com/billy3321/1001749662c370887c63bb30f26c9e6e"
      ],
      "metadata": {
        "id": "8nH3oUsyS94H"
      }
    },
    {
      "cell_type": "code",
      "source": [
        "##數學運算，數字和運算子之間可空可不空（空格不影響）\n",
        "##「**」是次方\n",
        "print(3**3)\n",
        "##「/」是浮點數除法（算出來有小數點），「//」是除法算出來整數位（無條件捨去）\n",
        "b=3/2\n",
        "c=3//2\n",
        "##「%」是除完的餘數\n",
        "d=5%3\n",
        "##最後跑完只會顯示最後一行的結果，所以要用print顯示輸出\n",
        "print(b,c)\n",
        "d"
      ],
      "metadata": {
        "colab": {
          "base_uri": "https://localhost:8080/"
        },
        "id": "dURIGOI1QP4N",
        "outputId": "0851a377-6948-4278-ac83-9a2a9d01668a"
      },
      "execution_count": 12,
      "outputs": [
        {
          "output_type": "stream",
          "name": "stdout",
          "text": [
            "27\n",
            "1.5 1\n"
          ]
        },
        {
          "output_type": "execute_result",
          "data": {
            "text/plain": [
              "2"
            ]
          },
          "metadata": {},
          "execution_count": 12
        }
      ]
    },
    {
      "cell_type": "markdown",
      "source": [
        "\n",
        "\n",
        "1.運算的優先順序：先→後\n",
        "* ()\n",
        "- **\n",
        "- 正負\n",
        "- 「*」、「/」、「%」或「//」\n",
        "- 「+」或「-」\n",
        "- 「=」\n",
        "  - 程式的「=」：指定運算子，把右邊給左邊（指定變數）\n",
        "  - 「==」才是數學的等號\n",
        "2.「運算式」：運算子組成的式子，會傳出值（value）：\n",
        "-   例如：2+3\"*\"4：做2件事（先算3*4再+2）\n",
        "3.「敘述式」（statemen）：不會傳出值\n",
        "-   例如：n=110"
      ],
      "metadata": {
        "id": "91Pnv48lqQLG"
      }
    },
    {
      "cell_type": "code",
      "source": [
        "3*2+5/(4-3)+2**2*9"
      ],
      "metadata": {
        "colab": {
          "base_uri": "https://localhost:8080/"
        },
        "id": "cVv8S3k0t2oX",
        "outputId": "61000dfe-2333-46bf-a19c-1dc7accc50a0"
      },
      "execution_count": 13,
      "outputs": [
        {
          "output_type": "execute_result",
          "data": {
            "text/plain": [
              "47.0"
            ]
          },
          "metadata": {},
          "execution_count": 13
        }
      ]
    },
    {
      "cell_type": "code",
      "source": [
        "##程式有運算的優先順序，所以可以改變（已運算的n，可以再重覆運算覆蓋）\n",
        "n = 3 + 2 ###算出來的5存在n裡面\n",
        "n = n * 2 ###先用舊的n（5）×2，再存入n（新的n=10）\n",
        "n"
      ],
      "metadata": {
        "colab": {
          "base_uri": "https://localhost:8080/"
        },
        "id": "1E2EUNhpxz-W",
        "outputId": "d00f6d41-0353-497d-bb61-7a137f3ec56f"
      },
      "execution_count": 15,
      "outputs": [
        {
          "output_type": "execute_result",
          "data": {
            "text/plain": [
              "10"
            ]
          },
          "metadata": {},
          "execution_count": 15
        }
      ]
    },
    {
      "cell_type": "markdown",
      "source": [
        "#複合指定運算子\n",
        "\n",
        "有重覆的變數的時候，可以直接寫：\n",
        "\n",
        "- \"n=n+2\" 就是 \"n+ =2\""
      ],
      "metadata": {
        "id": "XNvJI97B3Bqc"
      }
    },
    {
      "cell_type": "code",
      "source": [
        "n = 3 + 2\n",
        "n *= 2 #*跟=之間不能有空格\n",
        "n"
      ],
      "metadata": {
        "id": "h4waaT0V27tE",
        "outputId": "5dc16741-be5b-425f-9b77-aca50faf2742",
        "colab": {
          "base_uri": "https://localhost:8080/"
        }
      },
      "execution_count": 24,
      "outputs": [
        {
          "output_type": "execute_result",
          "data": {
            "text/plain": [
              "10"
            ]
          },
          "metadata": {},
          "execution_count": 24
        }
      ]
    }
  ]
}