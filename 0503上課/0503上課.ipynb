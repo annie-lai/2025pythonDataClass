{
  "nbformat": 4,
  "nbformat_minor": 0,
  "metadata": {
    "colab": {
      "provenance": [],
      "authorship_tag": "ABX9TyP+3LvdhHN04eqJUjO17wdm",
      "include_colab_link": true
    },
    "kernelspec": {
      "name": "python3",
      "display_name": "Python 3"
    },
    "language_info": {
      "name": "python"
    }
  },
  "cells": [
    {
      "cell_type": "markdown",
      "metadata": {
        "id": "view-in-github",
        "colab_type": "text"
      },
      "source": [
        "<a href=\"https://colab.research.google.com/github/annie-lai/2025pythonDataClass/blob/main/0503%E4%B8%8A%E8%AA%B2/0503%E4%B8%8A%E8%AA%B2.ipynb\" target=\"_parent\"><img src=\"https://colab.research.google.com/assets/colab-badge.svg\" alt=\"Open In Colab\"/></a>"
      ]
    },
    {
      "cell_type": "markdown",
      "source": [
        "這格文字區是md語法\n",
        "# 一個井字是標題1\n",
        "## 兩個井字是標題2\n",
        "### 三個井\n",
        "#### 四個井\n",
        "##### 五個井\n",
        "###### 最多六個井\n"
      ],
      "metadata": {
        "id": "6uyXzn4fLOt4"
      }
    },
    {
      "cell_type": "code",
      "execution_count": 1,
      "metadata": {
        "colab": {
          "base_uri": "https://localhost:8080/"
        },
        "id": "22jQ2jQnCWFx",
        "outputId": "9f9ad6ab-1955-446d-bd69-b03ee84fe101"
      },
      "outputs": [
        {
          "output_type": "stream",
          "name": "stdout",
          "text": [
            "今天是5/3禮拜六\n"
          ]
        }
      ],
      "source": [
        "##程式碼\n",
        "print(\"今天是5/3禮拜六\")"
      ]
    }
  ]
}