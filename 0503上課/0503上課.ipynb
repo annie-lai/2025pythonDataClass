{
  "nbformat": 4,
  "nbformat_minor": 0,
  "metadata": {
    "colab": {
      "provenance": [],
      "authorship_tag": "ABX9TyPuCk15oYCPbdK3kTfJ6Czu",
      "include_colab_link": true
    },
    "kernelspec": {
      "name": "python3",
      "display_name": "Python 3"
    },
    "language_info": {
      "name": "python"
    }
  },
  "cells": [
    {
      "cell_type": "markdown",
      "metadata": {
        "id": "view-in-github",
        "colab_type": "text"
      },
      "source": [
        "<a href=\"https://colab.research.google.com/github/annie-lai/2025pythonDataClass/blob/main/0503%E4%B8%8A%E8%AA%B2/0503%E4%B8%8A%E8%AA%B2.ipynb\" target=\"_parent\"><img src=\"https://colab.research.google.com/assets/colab-badge.svg\" alt=\"Open In Colab\"/></a>"
      ]
    },
    {
      "cell_type": "code",
      "execution_count": null,
      "metadata": {
        "colab": {
          "base_uri": "https://localhost:8080/"
        },
        "id": "22jQ2jQnCWFx",
        "outputId": "beb7d75d-c68f-4a54-b09c-28b48b5ef924"
      },
      "outputs": [
        {
          "output_type": "stream",
          "name": "stdout",
          "text": [
            "今天是5/3禮拜六\n"
          ]
        }
      ],
      "source": [
        "print(\"今天是5/3禮拜六\")"
      ]
    }
  ]
}