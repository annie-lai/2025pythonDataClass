{
  "nbformat": 4,
  "nbformat_minor": 0,
  "metadata": {
    "colab": {
      "provenance": [],
      "authorship_tag": "ABX9TyN7BN5hVMXwuY8tTKWZkMut",
      "include_colab_link": true
    },
    "kernelspec": {
      "name": "python3",
      "display_name": "Python 3"
    },
    "language_info": {
      "name": "python"
    }
  },
  "cells": [
    {
      "cell_type": "markdown",
      "metadata": {
        "id": "view-in-github",
        "colab_type": "text"
      },
      "source": [
        "<a href=\"https://colab.research.google.com/github/annie-lai/2025pythonDataClass/blob/main/0510/0510.ipynb\" target=\"_parent\"><img src=\"https://colab.research.google.com/assets/colab-badge.svg\" alt=\"Open In Colab\"/></a>"
      ]
    },
    {
      "cell_type": "code",
      "execution_count": null,
      "metadata": {
        "id": "RKlO13Sjysdx"
      },
      "outputs": [],
      "source": []
    },
    {
      "cell_type": "markdown",
      "source": [
        "##學習程式碼：\n",
        "-   數學運算\n",
        "-   流程控制\n",
        "\n",
        "主程式區塊：由上而下，一定會執行\n",
        "\n",
        "縮排後是有條件的執行（條件式或迴圈），\":\"就是宣告（？）一個區塊：\n",
        " + 判斷（條件式）：if\n",
        "  + 不能用「if」當變數名稱\n",
        "  + 單項選擇：\"if bool: True\"\n",
        "  + 雙向選擇：\"if bool: True\" \"else: False\"\n",
        "\n",
        "bool：布林值（True或False）\n",
        "\n",
        " + 迴圈（loop）\n",
        "\n",
        "##比較運算子\n",
        "| 運算子 | 說明     | 範例    |\n",
        "|--------|----------|---------|\n",
        "| >      | 大於     | a > b   |\n",
        "| <      | 小於     | a < b   |\n",
        "| >=     | 大於等於 | a >= b  |\n",
        "| <=     | 小於等於 | a <= b  |\n",
        "| ==     | 等於     | a == b  |\n",
        "| !=     | 不等於   | a != b  |\n",
        "| is     | 是同一個物件（不同型別也是不同物件）     | a is b  |\n",
        "| is not     | 不是同一個物件  | a is not b  |\n",
        "\n",
        "- 二元運算子：\"==\"左右兩邊都要有運算元\n",
        "- 只要是運算子，左右都可以空很多格"
      ],
      "metadata": {
        "id": "7eQWw3dHytEt"
      }
    }
  ]
}