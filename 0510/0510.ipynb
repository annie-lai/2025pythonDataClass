{
  "nbformat": 4,
  "nbformat_minor": 0,
  "metadata": {
    "colab": {
      "provenance": [],
      "toc_visible": true,
      "authorship_tag": "ABX9TyNdh8rq0KYsXbB7kS9buaxg",
      "include_colab_link": true
    },
    "kernelspec": {
      "name": "python3",
      "display_name": "Python 3"
    },
    "language_info": {
      "name": "python"
    }
  },
  "cells": [
    {
      "cell_type": "markdown",
      "metadata": {
        "id": "view-in-github",
        "colab_type": "text"
      },
      "source": [
        "<a href=\"https://colab.research.google.com/github/annie-lai/2025pythonDataClass/blob/main/0510/0510.ipynb\" target=\"_parent\"><img src=\"https://colab.research.google.com/assets/colab-badge.svg\" alt=\"Open In Colab\"/></a>"
      ]
    },
    {
      "cell_type": "code",
      "execution_count": null,
      "metadata": {
        "id": "RKlO13Sjysdx"
      },
      "outputs": [],
      "source": []
    },
    {
      "cell_type": "markdown",
      "source": [
        "學習程式碼：\n",
        "-   數學運算\n",
        "-   流程控制\n",
        "\n",
        "---\n",
        "\n",
        "主程式區塊：由上而下，一定會執行\n",
        "\n",
        "縮排（tab鍵）後是有條件的執行（條件式或迴圈），\":\"就是宣告（？）一個區塊：\n",
        "##判斷（條件式）：if\n",
        "  + 不能用「if」當變數名稱\n",
        "  + 單項選擇（單項式）：\"if bool: True\"\n",
        "  + 雙向選擇（雙項式）：\"if bool: True\" \"else: False\"\n",
        "  + 多項選擇式：\"if\" \"elif\" \"elif\"... \"else\"\n",
        "  + 寫在上面是比較難得到true的，最簡單的往下寫\n",
        "\n",
        "bool：布林值（True或False）\n",
        "\n",
        "##比較運算子\n",
        "| 運算子 | 說明     | 範例    |\n",
        "|--------|----------|---------|\n",
        "| >      | 大於     | a > b   |\n",
        "| <      | 小於     | a < b   |\n",
        "| >=     | 大於等於 | a >= b  |\n",
        "| <=     | 小於等於 | a <= b  |\n",
        "| ==     | 等於     | a == b  |\n",
        "| !=     | 不等於   | a != b  |\n",
        "| is     | 是同一個物件（不同型別也是不同物件）     | a is b  |\n",
        "| is not     | 不是同一個物件  | a is not b  |\n",
        "is/is not：比較兩個對象的身份（identity）\n",
        "\n",
        "- 二元運算子：\"==\"左右兩邊都要有運算元\n",
        "- 只要是運算子，左右都可以空很多格\n",
        "\n",
        "```\n",
        "# 此內容會顯示為程式碼\n",
        "#單項式\n",
        "if 條件（比較運算子）: #只要true就執行1和2\n",
        "  執行程式區塊1\n",
        "  執行程式區塊2\n",
        "\n",
        "主程式區塊 #一定執行的區塊\n",
        "\n",
        "#雙項式\n",
        "if 條件：#記得加冒號\n",
        "  條件成立（布林值=true）就執行\n",
        "else:\n",
        "  如果是false才執行\n",
        "\n",
        "#多項選擇式\n",
        "if 條件1:\n",
        "  條件1成立就執行\n",
        "elif 條件2:\n",
        "  條件2成立就執行\n",
        "elif 條件3:\n",
        "  條件3成立就執行\n",
        "elif 條件4:\n",
        "  條件4成立就執行\n",
        "...\n",
        "else:\n",
        "  以上條件都不成立就執行\n",
        "```\n",
        "\n"
      ],
      "metadata": {
        "id": "7eQWw3dHytEt"
      }
    },
    {
      "cell_type": "code",
      "source": [
        "#單項式\n",
        "if 條件（比較運算子）: #只要true就執行1和2\n",
        "  執行程式區塊1\n",
        "  執行程式區塊2\n",
        "\n",
        "主程式區塊 #一定執行的區塊\n",
        "\n",
        "#雙項式\n",
        "if 條件：\n",
        "  條件成立（布林值=true）就執行\n",
        "else:\n",
        "  如果是false才執行\n",
        "\n"
      ],
      "metadata": {
        "id": "IJE8W1166j_N"
      },
      "execution_count": null,
      "outputs": []
    },
    {
      "cell_type": "code",
      "source": [
        "sig = float(input(\"顯著值\")) #記得將str（字串）轉換為float（浮動小數）或int（數字）\n",
        "if sig <= .05:\n",
        "  print(\"顯著\")\n",
        "else:\n",
        "  print(\"不顯著\")\n",
        "print(\"檢定完成\")\n"
      ],
      "metadata": {
        "colab": {
          "base_uri": "https://localhost:8080/"
        },
        "id": "0F24KE-V8hom",
        "outputId": "4b3ea064-c3c7-4c0c-d469-eda3127aa1fa"
      },
      "execution_count": 5,
      "outputs": [
        {
          "output_type": "stream",
          "name": "stdout",
          "text": [
            "顯著值0.05\n",
            "顯著\n",
            "檢定完成\n"
          ]
        }
      ]
    },
    {
      "cell_type": "markdown",
      "source": [
        "###多項選擇式\n",
        "```\n",
        "if 條件1:\n",
        "  條件1成立就執行\n",
        "elif 條件2:\n",
        "  條件2成立就執行\n",
        "elif 條件3:\n",
        "  條件3成立就執行\n",
        "elif 條件4:\n",
        "  條件4成立就執行\n",
        "...\n",
        "else:\n",
        "  以上條件都不成立就執行\n",
        "```\n",
        "\n",
        "###if的巢狀判斷\n",
        "```\n",
        "if 條件1：\n",
        "  條件1成立就執行\n",
        "else: #條件1不成立的時候\n",
        "  if 條件2:\n",
        "    條件2成立就執行 #條件1不成立and條件2成立\n",
        "  else:\n",
        "    條件2不成立就執行 #條件1不成立and條件2不成立\n",
        "\n",
        "```"
      ],
      "metadata": {
        "id": "RbGmgJcVAk7E"
      }
    },
    {
      "cell_type": "code",
      "source": [
        "bir = input(\"日期(mmdd)是\")\n",
        "if len(bir)!=4: #len是計算字元數量\n",
        "  print(\"日期格式錯誤\")\n",
        "else:\n",
        "  if int(bir)<401:\n",
        "    print(\"第一季\")\n",
        "  elif int(bir)<701:\n",
        "    print(\"第二季\")\n",
        "  elif int(bir)<1001:\n",
        "    print(\"第三季\")\n",
        "  else:\n",
        "    print(\"第四季\")"
      ],
      "metadata": {
        "colab": {
          "base_uri": "https://localhost:8080/"
        },
        "id": "az0R3GReChK_",
        "outputId": "7a9f6ea2-d39b-4c06-b5d6-ccc26f72d41b"
      },
      "execution_count": 11,
      "outputs": [
        {
          "output_type": "stream",
          "name": "stdout",
          "text": [
            "日期(mmdd)是0907\n",
            "第三季\n"
          ]
        }
      ]
    },
    {
      "cell_type": "markdown",
      "source": [
        "###邏輯運算子\n",
        "+ and：同時（嚴格得到true）\n",
        "+ or：或（容易得到true）\n",
        "+ not：讓true和false的程式區塊對調，是一元運算子\n",
        "\n",
        "bool ← bool and/or bool\n",
        "bool ← not bool"
      ],
      "metadata": {
        "id": "0BtBzMtwK-eN"
      }
    },
    {
      "cell_type": "code",
      "source": [
        "date = input(\"日期(mmdd)是\")\n",
        "if not len(date) == 4 or int(date)<100 or int(date)>1232: #len是計算字元數量\n",
        "  print(\"日期格式錯誤\")\n",
        "else:\n",
        "  if int(date)>=101 and int(date)<=131:\n",
        "    print(\"一月\")\n",
        "  elif int(date)>=201 and int(date)<=229:\n",
        "    print(\"二月\")\n",
        "  elif int(date)>=301 and int(date)<=331:\n",
        "    print(\"三月\")\n",
        "  else:\n",
        "    print(\"四月以後\")\n"
      ],
      "metadata": {
        "colab": {
          "base_uri": "https://localhost:8080/"
        },
        "id": "--w2IM3gOdUC",
        "outputId": "c4d7ebf7-9bd5-442d-e7fb-77e6460ff0b8"
      },
      "execution_count": 19,
      "outputs": [
        {
          "output_type": "stream",
          "name": "stdout",
          "text": [
            "日期(mmdd)是2151\n",
            "日期格式錯誤\n"
          ]
        }
      ]
    },
    {
      "cell_type": "markdown",
      "source": [
        "##迴圈：for\n",
        "\n",
        "```\n",
        "for 變數 in 串列資料:\n",
        "  迴圈內要執行的程式（把串列資料裡的所有值一個一個放進變數做一遍，放完做完才停）\n",
        "```\n",
        "---\n",
        "內建函式說明\n",
        "\n",
        "```\n",
        "class range(stop)\n",
        "```\n",
        "括號內：參數\n",
        "\n",
        "range(引數值)：用range呼叫引數值（引數值為真正的值）\n",
        "\n",
        "range：範圍；stop停在哪（不包含）\n",
        "\n",
        "```\n",
        "range(3) #0、1、2\n",
        "↓\n",
        "range(0,3) #從0開始，有3個數\n",
        "```\n",
        "也可以定義從哪裡到哪裡\n",
        "\n",
        "```\n",
        "class range(start, stop, step=1)\n",
        "```\n",
        "+ start和stop：沒有default，要自己填\n",
        "+ step=1：default值\n",
        "\n",
        "range(x)：會傳出串列資料（Sequence）\n",
        "\n"
      ],
      "metadata": {
        "id": "r9sJBz25RO02"
      }
    },
    {
      "cell_type": "code",
      "source": [
        "for stu in [2,3,5,7]:\n",
        "  print(stu)"
      ],
      "metadata": {
        "colab": {
          "base_uri": "https://localhost:8080/"
        },
        "id": "-AaajoorlrYq",
        "outputId": "72520993-1f5e-4a10-dae2-9b74d892ba8c"
      },
      "execution_count": 38,
      "outputs": [
        {
          "output_type": "stream",
          "name": "stdout",
          "text": [
            "2\n",
            "3\n",
            "5\n",
            "7\n"
          ]
        }
      ]
    },
    {
      "cell_type": "code",
      "source": [
        "for a in range(3): #記得加冒號\n",
        "  print(a)"
      ],
      "metadata": {
        "colab": {
          "base_uri": "https://localhost:8080/"
        },
        "id": "45GZJexvV22d",
        "outputId": "34657d12-282d-40f7-fa3c-b0a4c294b6cb"
      },
      "execution_count": 34,
      "outputs": [
        {
          "output_type": "stream",
          "name": "stdout",
          "text": [
            "0\n",
            "1\n",
            "2\n"
          ]
        }
      ]
    },
    {
      "cell_type": "code",
      "source": [
        "n = 1\n",
        "for a in range(2,5):\n",
        "  n+=a\n",
        "n #1+(2+3+4)"
      ],
      "metadata": {
        "colab": {
          "base_uri": "https://localhost:8080/"
        },
        "id": "VsOpmMGTW7E2",
        "outputId": "672c70ce-9646-4e32-dc85-79898afaa870"
      },
      "execution_count": 32,
      "outputs": [
        {
          "output_type": "execute_result",
          "data": {
            "text/plain": [
              "10"
            ]
          },
          "metadata": {},
          "execution_count": 32
        }
      ]
    },
    {
      "cell_type": "code",
      "source": [
        "n = 1\n",
        "for a in range(3,9,2):\n",
        "  n+=a\n",
        "n #1+(3+5+7)"
      ],
      "metadata": {
        "colab": {
          "base_uri": "https://localhost:8080/"
        },
        "id": "_7--ve14jmPk",
        "outputId": "86830a68-ed25-46ed-d166-26e82689c40b"
      },
      "execution_count": 36,
      "outputs": [
        {
          "output_type": "execute_result",
          "data": {
            "text/plain": [
              "16"
            ]
          },
          "metadata": {},
          "execution_count": 36
        }
      ]
    },
    {
      "cell_type": "markdown",
      "source": [
        "##資料結構：list（串列資料）、dictionary（詞典資料）、set\n",
        "+ 一個變數只能存一個東西\n",
        " + 變數[subscript]：變數裡的特定資料\n",
        "+ **list**：串列資料，中括號\n",
        " + [1,2,5,8]\n",
        " + 可變的（mutable）：裡面的元素可以變，能增減、修改\n",
        " + 永久的資料（置物櫃）\n",
        " + 儲存多筆資料\n",
        "+ **tuple**：也是串列資料，小括號\n",
        " + (1,2,5,8)\n",
        " + 不可變的（immutable）：裡面的元素不能改變\n",
        " + 暫時的資料（包裝）\n",
        "+ **dictionary**（dict，詞典資料）：map資料類型\n",
        " + key對應value\n",
        " + {key:value, key:value, key:value}\n",
        " + 儲存一組相關聯的資料"
      ],
      "metadata": {
        "id": "s65fVCvy0V27"
      }
    },
    {
      "cell_type": "code",
      "source": [
        "#dictionary資料\n",
        "role1 = {\"name\":\"初音\", \"bir\":\"0831\", \"num\":1} #文字都要記得加引號，沒加引號會被視為變數（被抱怨）\n",
        "role2 = {\"name\":\"鈴\", \"bir\":\"1227\", \"num\":2}\n",
        "role3 = {\"name\":\"連\", \"bir\":\"1227\", \"num\":2}\n",
        "\n",
        "#把dictionary放進list\n",
        "role = [role1,role2,role3]\n",
        "\n",
        "print(type(role1),type(role))\n",
        "print(\"=================\")\n",
        "\n",
        "for voc in role:\n",
        "  print(voc[\"name\"])\n",
        "  print(\"代號：\", voc[\"num\"])\n",
        "  print(\"生日：\", voc[\"bir\"])\n",
        "  print(\"-----------------\")"
      ],
      "metadata": {
        "id": "O16sXA-40cKz",
        "outputId": "7f03af1f-99dc-4034-9613-6d83d8a9c0a1",
        "colab": {
          "base_uri": "https://localhost:8080/"
        }
      },
      "execution_count": 52,
      "outputs": [
        {
          "output_type": "stream",
          "name": "stdout",
          "text": [
            "<class 'dict'> <class 'list'>\n",
            "=================\n",
            "初音\n",
            "代號： 1\n",
            "生日： 0831\n",
            "-----------------\n",
            "鈴\n",
            "代號： 2\n",
            "生日： 1227\n",
            "-----------------\n",
            "連\n",
            "代號： 2\n",
            "生日： 1227\n",
            "-----------------\n"
          ]
        }
      ]
    }
  ]
}