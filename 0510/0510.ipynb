{
  "nbformat": 4,
  "nbformat_minor": 0,
  "metadata": {
    "colab": {
      "provenance": [],
      "authorship_tag": "ABX9TyOkUh4KYefMiu12TNA2R6qZ",
      "include_colab_link": true
    },
    "kernelspec": {
      "name": "python3",
      "display_name": "Python 3"
    },
    "language_info": {
      "name": "python"
    }
  },
  "cells": [
    {
      "cell_type": "markdown",
      "metadata": {
        "id": "view-in-github",
        "colab_type": "text"
      },
      "source": [
        "<a href=\"https://colab.research.google.com/github/annie-lai/2025pythonDataClass/blob/main/0510/0510.ipynb\" target=\"_parent\"><img src=\"https://colab.research.google.com/assets/colab-badge.svg\" alt=\"Open In Colab\"/></a>"
      ]
    },
    {
      "cell_type": "code",
      "execution_count": null,
      "metadata": {
        "id": "RKlO13Sjysdx"
      },
      "outputs": [],
      "source": []
    },
    {
      "cell_type": "markdown",
      "source": [
        "##學習程式碼：\n",
        "-   數學運算\n",
        "-   流程控制\n",
        "\n",
        "主程式區塊：由上而下，一定會執行\n",
        "\n",
        "縮排（tab鍵）後是有條件的執行（條件式或迴圈），\":\"就是宣告（？）一個區塊：\n",
        "##判斷（條件式）：if\n",
        "  + 不能用「if」當變數名稱\n",
        "  + 單項選擇（單項式）：\"if bool: True\"\n",
        "  + 雙向選擇（雙項式）：\"if bool: True\" \"else: False\"\n",
        "  + 多項選擇式：\"if\" \"elif\" \"elif\"... \"else\"\n",
        "  + 寫在上面是比較難得到true的，最簡單的往下寫\n",
        "\n",
        "bool：布林值（True或False）\n",
        "\n",
        "##比較運算子\n",
        "| 運算子 | 說明     | 範例    |\n",
        "|--------|----------|---------|\n",
        "| >      | 大於     | a > b   |\n",
        "| <      | 小於     | a < b   |\n",
        "| >=     | 大於等於 | a >= b  |\n",
        "| <=     | 小於等於 | a <= b  |\n",
        "| ==     | 等於     | a == b  |\n",
        "| !=     | 不等於   | a != b  |\n",
        "| is     | 是同一個物件（不同型別也是不同物件）     | a is b  |\n",
        "| is not     | 不是同一個物件  | a is not b  |\n",
        "is/is not：比較兩個對象的身份（identity）\n",
        "\n",
        "- 二元運算子：\"==\"左右兩邊都要有運算元\n",
        "- 只要是運算子，左右都可以空很多格\n",
        "\n",
        "```\n",
        "# 此內容會顯示為程式碼\n",
        "#單項式\n",
        "if 條件（比較運算子）: #只要true就執行1和2\n",
        "  執行程式區塊1\n",
        "  執行程式區塊2\n",
        "\n",
        "主程式區塊 #一定執行的區塊\n",
        "\n",
        "#雙項式\n",
        "if 條件：#記得加冒號\n",
        "  條件成立（布林值=true）就執行\n",
        "else:\n",
        "  如果是false才執行\n",
        "\n",
        "#多項選擇式\n",
        "if 條件1:\n",
        "  條件1成立就執行\n",
        "elif 條件2:\n",
        "  條件2成立就執行\n",
        "elif 條件3:\n",
        "  條件3成立就執行\n",
        "elif 條件4:\n",
        "  條件4成立就執行\n",
        "...\n",
        "else:\n",
        "  以上條件都不成立就執行\n",
        "```\n",
        "\n"
      ],
      "metadata": {
        "id": "7eQWw3dHytEt"
      }
    },
    {
      "cell_type": "code",
      "source": [
        "#單項式\n",
        "if 條件（比較運算子）: #只要true就執行1和2\n",
        "  執行程式區塊1\n",
        "  執行程式區塊2\n",
        "\n",
        "主程式區塊 #一定執行的區塊\n",
        "\n",
        "#雙項式\n",
        "if 條件：\n",
        "  條件成立（布林值=true）就執行\n",
        "else:\n",
        "  如果是false才執行\n",
        "\n"
      ],
      "metadata": {
        "id": "IJE8W1166j_N"
      },
      "execution_count": null,
      "outputs": []
    },
    {
      "cell_type": "code",
      "source": [
        "sig = float(input(\"顯著值\")) #記得將str（字串）轉換為float（浮動小數）或int（數字）\n",
        "if sig <= .05:\n",
        "  print(\"顯著\")\n",
        "else:\n",
        "  print(\"不顯著\")\n",
        "print(\"檢定完成\")\n"
      ],
      "metadata": {
        "id": "0F24KE-V8hom",
        "outputId": "4b3ea064-c3c7-4c0c-d469-eda3127aa1fa",
        "colab": {
          "base_uri": "https://localhost:8080/"
        }
      },
      "execution_count": 5,
      "outputs": [
        {
          "output_type": "stream",
          "name": "stdout",
          "text": [
            "顯著值0.05\n",
            "顯著\n",
            "檢定完成\n"
          ]
        }
      ]
    },
    {
      "cell_type": "markdown",
      "source": [
        "###多項選擇式\n",
        "```\n",
        "if 條件1:\n",
        "  條件1成立就執行\n",
        "elif 條件2:\n",
        "  條件2成立就執行\n",
        "elif 條件3:\n",
        "  條件3成立就執行\n",
        "elif 條件4:\n",
        "  條件4成立就執行\n",
        "...\n",
        "else:\n",
        "  以上條件都不成立就執行\n",
        "```\n",
        "\n",
        "###if的巢狀判斷\n",
        "```\n",
        "if 條件1：\n",
        "  條件1成立就執行\n",
        "else: #條件1不成立的時候\n",
        "  if 條件2:\n",
        "    條件2成立就執行 #條件1不成立and條件2成立\n",
        "  else:\n",
        "    條件2不成立就執行 #條件1不成立and條件2不成立\n",
        "\n",
        "```"
      ],
      "metadata": {
        "id": "RbGmgJcVAk7E"
      }
    },
    {
      "cell_type": "code",
      "source": [
        "bir = input(\"日期mmdd\")\n",
        "if len(bir)!=4:\n",
        "  print(\"日期格式錯誤\")\n",
        "else:\n",
        "  if int(bir)<401:\n",
        "    print(\"第一季\")\n",
        "  elif int(bir)<701:\n",
        "    print(\"第二季\")\n",
        "  elif int(bir)<1001:\n",
        "    print(\"第三季\")\n",
        "  else:\n",
        "    print(\"第四季\")"
      ],
      "metadata": {
        "id": "az0R3GReChK_",
        "outputId": "33599688-1478-4824-b5f6-54908b4a317d",
        "colab": {
          "base_uri": "https://localhost:8080/"
        }
      },
      "execution_count": 10,
      "outputs": [
        {
          "output_type": "stream",
          "name": "stdout",
          "text": [
            "日期mmdd1121\n",
            "第四季\n"
          ]
        }
      ]
    }
  ]
}