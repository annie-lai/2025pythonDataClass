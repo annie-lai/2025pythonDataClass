{
  "nbformat": 4,
  "nbformat_minor": 0,
  "metadata": {
    "colab": {
      "provenance": [],
      "authorship_tag": "ABX9TyNhX44mWOnUaqh3DwXZ4uql",
      "include_colab_link": true
    },
    "kernelspec": {
      "name": "python3",
      "display_name": "Python 3"
    },
    "language_info": {
      "name": "python"
    }
  },
  "cells": [
    {
      "cell_type": "markdown",
      "metadata": {
        "id": "view-in-github",
        "colab_type": "text"
      },
      "source": [
        "<a href=\"https://colab.research.google.com/github/annie-lai/2025pythonDataClass/blob/main/%E7%94%9F%E6%97%A5%E6%A9%9F%E5%99%A8%E4%BA%BA/%E7%94%9F%E6%97%A5%E6%A9%9F%E5%99%A8%E4%BA%BA.ipynb\" target=\"_parent\"><img src=\"https://colab.research.google.com/assets/colab-badge.svg\" alt=\"Open In Colab\"/></a>"
      ]
    },
    {
      "cell_type": "markdown",
      "source": [
        "Discord 機器人通常使用 Python 搭配 discord.py 這個套件來開發。以下是一個簡單的 Discord 機器人範例，能回應使用者的訊息：\n",
        "\n",
        "簡單說明：\n",
        "command_prefix='!'：設定指令前綴為 !，使用者輸入 !ping 就會觸發 ping 指令。\n",
        "\n",
        "on_ready：機器人啟動完成時會印出訊息。\n",
        "\n",
        "ping 指令：回覆訊息 Pong!。\n"
      ],
      "metadata": {
        "id": "jtCJ9Fk3oZ5s"
      }
    },
    {
      "cell_type": "code",
      "execution_count": null,
      "metadata": {
        "id": "nGuqYm5roMEy"
      },
      "outputs": [],
      "source": [
        "python\n",
        "import discord\n",
        "from discord.ext import commands\n",
        "\n",
        "intents = discord.Intents.default()\n",
        "intents.message_content = True  # 讓機器人能讀取訊息內容\n",
        "\n",
        "bot = commands.Bot(command_prefix='!', intents=intents)\n",
        "\n",
        "@bot.event\n",
        "async def on_ready():\n",
        "    print(f'機器人已登入：{bot.user}')\n",
        "\n",
        "@bot.command()\n",
        "async def ping(ctx):\n",
        "    await ctx.send('Pong!')\n",
        "\n",
        "bot.run('你的機器人Token')"
      ]
    },
    {
      "cell_type": "markdown",
      "source": [
        "做一個能在指定日期（例如生日當天）自動發送「祝你生日快樂」提醒的 Discord 機器人。這個功能可以用 Python 的 discord.py 搭配排程任務來實現。\n",
        "\n",
        "以下是實作步驟和範例程式碼：\n",
        "\n",
        "**準備工作**：確認你已經建立好 Discord 機器人並取得 Token。\n",
        "\n",
        "   1.安裝 discord.py（建議使用 2.x 版本）：\n",
        "\n",
        "```\n",
        "pip install -U discord.py\n",
        "```\n",
        "\n",
        "  2.安裝 apscheduler，用來排程定時任務：\n",
        "\n",
        "```\n",
        "pip install apscheduler\n",
        "```"
      ],
      "metadata": {
        "id": "7JnQYkozqtJQ"
      }
    },
    {
      "cell_type": "code",
      "source": [
        "##生日提醒機器人範例\n",
        "import discord\n",
        "from discord.ext import commands\n",
        "from apscheduler.schedulers.asyncio import AsyncIOScheduler\n",
        "import datetime\n",
        "\n",
        "intents = discord.Intents.default()\n",
        "intents.message_content = True\n",
        "\n",
        "bot = commands.Bot(command_prefix='!', intents=intents)\n",
        "\n",
        "# 你想要提醒的生日資料，可以擴充成多個\n",
        "birthdays = {\n",
        "    \"01-08\": \"日野森志步\"  # 月-日 : 名字\n",
        "    \"01-27\": \"朝比奈真冬\"\n",
        "    \"01-30\": \"巡音流歌\"\n",
        "    \"02-10\": \"宵崎奏\"\n",
        "    \"02-17\": \"KAITO\"\n",
        "    \"03-02\": \"小豆澤心羽\"\n",
        "    \"03-19\": \"桃井愛莉\"\n",
        "    \"04-14\": \"花里實乃理\"\n",
        "    \"05-09\": \"天馬咲希\"\n",
        "    \"05-17\": \"天馬司\"\n",
        "    \"05-25\": \"青柳冬彌\"\n",
        "    \"06-24\": \"神代類\"\n",
        "    \"07-20\": \"草薙寧寧\"\n",
        "    \"07-26\": \"白石杏\"\n",
        "    \"08-11\": \"星乃一歌\"\n",
        "    \"08-27\": \"曉山瑞希\"\n",
        "    \"08-31\": \"初音未來\"\n",
        "    \"09-09\": \"鳳笑夢\"\n",
        "    \"10-05\": \"桐谷遙\"\n",
        "    \"10-27\": \"望月穗波\"\n",
        "    \"11-05\": \"MEIKO\"\n",
        "    \"11-12\": \"東雲彰人\"\n",
        "    \"12-06\": \"日野森雫\"\n",
        "    \"12-27\": \"鏡音鈴\"\n",
        "    \"12-27\": \"鏡音連\"\n",
        "\n",
        "}\n",
        "\n",
        "# 你想要發送生日祝福的頻道 ID（請改成你自己的頻道ID）\n",
        "CHANNEL_ID = 123456789012345678\n",
        "\n",
        "scheduler = AsyncIOScheduler()\n",
        "\n",
        "async def birthday_check():\n",
        "    today = datetime.datetime.now().strftime(\"%m-%d\")\n",
        "    if today in birthdays:\n",
        "        channel = bot.get_channel(CHANNEL_ID)\n",
        "        if channel:\n",
        "            await channel.send(f\"今天是 {birthdays[today]} 的生日！大家記得看生日live喔🎉🎂\\n 卡面 \")\n",
        "\n",
        "@bot.event\n",
        "async def on_ready():\n",
        "    print(f\"機器人已登入：{bot.user}\")\n",
        "    # 啟動排程，每天中午11點50檢查一次生日\n",
        "    scheduler.add_job(birthday_check, 'cron', hour=11, minute=50)\n",
        "    # 每天晚上7點50檢查一次\n",
        "    scheduler.add_job(birthday_check, 'cron', hour=19, minute=50)\n",
        "    scheduler.start()\n",
        "\n",
        "bot.run('你的機器人Token')\n"
      ],
      "metadata": {
        "id": "6MiNks6Ko3GV"
      },
      "execution_count": null,
      "outputs": []
    },
    {
      "cell_type": "markdown",
      "source": [
        "**使用說明**：\n",
        "+ 將 birthdays 字典改成你想提醒的生日，格式是 \"MM-DD\": \"名字\"。\n",
        "+ 把 CHANNEL_ID 改成你想讓機器人發訊息的 Discord 頻道 ID。\n",
        "+ 設定排程時間（範例是每天中午12點檢查一次生日，你也可以改成其他時間）。\n",
        "+ 執行機器人程式，機器人會每天定時檢查，若當天是生日就發送祝福訊息。\n",
        "\n",
        "**取得頻道 ID 小提示**：\n",
        "1. 在 Discord 設定中開啟「開發者模式」。\n",
        "2. 右鍵你要發送訊息的頻道，選擇「複製ID」。\n",
        "3. 貼到程式碼的 CHANNEL_ID 位置。"
      ],
      "metadata": {
        "id": "vmL2_GCQsJsL"
      }
    },
    {
      "cell_type": "markdown",
      "source": [
        "+ 使用者可以用指令輸入生日（例如 !生日 5/20），機器人會記住該使用者的生日。\n",
        "\n",
        "+ 在使用者生日當天，機器人會在指定頻道發送生日快樂訊息。\n",
        "\n",
        "+ 使用者可以用指令取消生日提醒（例如 !取消生日），讓機器人忘記他的生日設定。\n",
        "\n",
        "完整範例程式碼：\n",
        "\n",
        "+ 使用 Python discord.py 和 apscheduler。\n",
        "\n",
        "+ 將生日資料存在本地 JSON 檔案 birthdays.json，重啟機器人後資料仍保留。\n",
        "\n",
        "+ 使用者輸入生日指令格式為 !生日 月/日（例如 !生日 5/20）。\n",
        "\n",
        "+ 使用者輸入 !取消生日 取消生日提醒。\n",
        "\n",
        "+ 每天定時檢查所有使用者的生日，並在生日當天發送祝福。"
      ],
      "metadata": {
        "id": "TKq_ZMPUsuez"
      }
    },
    {
      "cell_type": "code",
      "source": [
        "import discord\n",
        "from discord.ext import commands\n",
        "from apscheduler.schedulers.asyncio import AsyncIOScheduler\n",
        "import datetime\n",
        "import json\n",
        "import os\n",
        "\n",
        "intents = discord.Intents.default()\n",
        "intents.message_content = True\n",
        "\n",
        "bot = commands.Bot(command_prefix='!', intents=intents)\n",
        "\n",
        "# 生日資料檔案\n",
        "BIRTHDAY_FILE = 'birthdays.json'\n",
        "\n",
        "# 生日資料格式：{ \"user_id\": \"MM-DD\" }\n",
        "if os.path.exists(BIRTHDAY_FILE):\n",
        "    with open(BIRTHDAY_FILE, 'r', encoding='utf-8') as f:\n",
        "        birthdays = json.load(f)\n",
        "else:\n",
        "    birthdays = {}\n",
        "\n",
        "# 生日祝福頻道ID，請改成你想發訊息的頻道ID\n",
        "CHANNEL_ID = 123456789012345678\n",
        "\n",
        "scheduler = AsyncIOScheduler()\n",
        "\n",
        "def save_birthdays():\n",
        "    with open(BIRTHDAY_FILE, 'w', encoding='utf-8') as f:\n",
        "        json.dump(birthdays, f, ensure_ascii=False, indent=2)\n",
        "\n",
        "@bot.command(name='生日')\n",
        "async def set_birthday(ctx, date: str):\n",
        "    \"\"\"\n",
        "    使用者輸入生日，格式：!生日 5/20 或 !生日 05/20\n",
        "    \"\"\"\n",
        "    try:\n",
        "        # 嘗試解析輸入的日期\n",
        "        month, day = date.split('/')\n",
        "        month = int(month)\n",
        "        day = int(day)\n",
        "        # 檢查日期合理性\n",
        "        datetime.datetime(year=2000, month=month, day=day)  # 只檢查月日合法性，不用管年份\n",
        "    except Exception:\n",
        "        await ctx.send(\"日期格式錯誤，請輸入正確格式，例如：`!生日 5/20`\")\n",
        "        return\n",
        "\n",
        "    # 儲存生日，格式 MM-DD（補零）\n",
        "    birthday_str = f\"{month:02d}-{day:02d}\"\n",
        "    birthdays[str(ctx.author.id)] = birthday_str\n",
        "    save_birthdays()\n",
        "    await ctx.send(f\"{ctx.author.name}，你的生日已設定為 {birthday_str}，生日當天我會祝你生日快樂！🎉\")\n",
        "\n",
        "@bot.command(name='取消生日')\n",
        "async def cancel_birthday(ctx):\n",
        "    user_id = str(ctx.author.id)\n",
        "    if user_id in birthdays:\n",
        "        del birthdays[user_id]\n",
        "        save_birthdays()\n",
        "        await ctx.send(f\"{ctx.author.name}，你的生日提醒已取消。\")\n",
        "    else:\n",
        "        await ctx.send(\"你還沒有設定生日喔！\")\n",
        "\n",
        "async def birthday_check():\n",
        "    today = datetime.datetime.now().strftime(\"%m-%d\")\n",
        "    channel = bot.get_channel(CHANNEL_ID)\n",
        "    if channel is None:\n",
        "        print(\"找不到指定的頻道，請確認 CHANNEL_ID 是否正確。\")\n",
        "        return\n",
        "\n",
        "    for user_id, bday in birthdays.items():\n",
        "        if bday == today:\n",
        "            user = bot.get_user(int(user_id))\n",
        "            if user:\n",
        "                await channel.send(f\"祝 {user.mention} 生日快樂！🎉🎂\")\n",
        "            else:\n",
        "                # 使用者不在線上或無法取得，仍發送祝福文字\n",
        "                await channel.send(f\"祝 <@{user_id}> 生日快樂！🎉🎂\")\n",
        "\n",
        "@bot.event\n",
        "async def on_ready():\n",
        "    print(f\"機器人已登入：{bot.user}\")\n",
        "    # 每天中午12點檢查生日\n",
        "    scheduler.add_job(birthday_check, 'cron', hour=12, minute=0)\n",
        "    scheduler.start()\n",
        "\n",
        "bot.run('你的機器人Token')\n"
      ],
      "metadata": {
        "id": "zX5NckxQr_Gz"
      },
      "execution_count": null,
      "outputs": []
    },
    {
      "cell_type": "markdown",
      "source": [
        "**使用說明**\n",
        "1. 設定頻道 ID：\n",
        "\n",
        "  把程式碼中的 CHANNEL_ID 改成你想讓機器人發生日祝福的 Discord 頻道 ID。\n",
        "\n",
        "2. 設定機器人 Token：\n",
        "\n",
        "  把 bot.run('你的機器人Token') 中的字串換成你的 Discord 機器人 Token。\n",
        "\n",
        "3. 指令使用：\n",
        "\n",
        "  + 輸入 !生日 5/20（月/日）來設定生日。\n",
        "\n",
        "  + 輸入 !取消生日 取消生日提醒。\n",
        "\n",
        "+ 生日祝福：\n",
        "  \n",
        "  機器人會每天中午 12 點檢查，若當天是使用者生日，就會在指定頻道標註該使用者並發送生日快樂訊息。\n",
        "\n"
      ],
      "metadata": {
        "id": "ZMv-mkHk8LWM"
      }
    },
    {
      "cell_type": "markdown",
      "source": [
        "使用者可以查詢目前機器人儲存的所有生日資料，讓大家知道有哪些成員設定了生日。\n",
        "\n",
        "加入查詢所有生日的指令範例：\n",
        "\n",
        "假設指令名稱為 !所有生日，以下示範如何加入這個指令："
      ],
      "metadata": {
        "id": "-TuV4gQRFWOX"
      }
    },
    {
      "cell_type": "code",
      "source": [
        "@bot.command(name='所有生日')\n",
        "async def list_birthdays(ctx):\n",
        "    if not birthdays:\n",
        "        await ctx.send(\"目前沒有任何人設定生日喔！\")\n",
        "        return\n",
        "\n",
        "    lines = []\n",
        "    for user_id, bday in birthdays.items():\n",
        "        user = bot.get_user(int(user_id))\n",
        "        if user:\n",
        "            name = user.name\n",
        "        else:\n",
        "            name = f\"<未知使用者 {user_id}>\"\n",
        "        lines.append(f\"{name}：{bday}\")\n",
        "\n",
        "    message = \"目前設定的生日如下：\\n\" + \"\\n\".join(lines)\n",
        "    # Discord 訊息長度有限制，若太長可分段或簡化顯示\n",
        "    await ctx.send(message)\n",
        "完整整合說明\n",
        "把上面程式碼貼到你機器人程式的指令區塊裡（和 !生日、!取消生日 同層級）。\n",
        "\n",
        "使用者在 Discord 輸入 !所有生日，機器人就會回傳目前所有儲存的生日清單。\n",
        "\n",
        "範例輸出\n",
        "text\n",
        "目前設定的生日如下：\n",
        "小可：05-20\n",
        "小明：01-31\n",
        "如果你擔心訊息太長，可以再幫你做分頁或私訊功能，隨時告訴我！需要我幫你整合完整程式碼也沒問題！"
      ],
      "metadata": {
        "id": "dlHFrpmZ8HuO"
      },
      "execution_count": null,
      "outputs": []
    }
  ]
}