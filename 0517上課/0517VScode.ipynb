{
 "cells": [
  {
   "cell_type": "code",
   "execution_count": 1,
   "id": "18c55bb2",
   "metadata": {},
   "outputs": [
    {
     "name": "stdout",
     "output_type": "stream",
     "text": [
      "0517上課用VScode\n"
     ]
    }
   ],
   "source": [
    "print(\"0517上課用VScode\")"
   ]
  }
 ],
 "metadata": {
  "kernelspec": {
   "display_name": "0517env",
   "language": "python",
   "name": "python3"
  },
  "language_info": {
   "codemirror_mode": {
    "name": "ipython",
    "version": 3
   },
   "file_extension": ".py",
   "mimetype": "text/x-python",
   "name": "python",
   "nbconvert_exporter": "python",
   "pygments_lexer": "ipython3",
   "version": "3.10.16"
  }
 },
 "nbformat": 4,
 "nbformat_minor": 5
}
