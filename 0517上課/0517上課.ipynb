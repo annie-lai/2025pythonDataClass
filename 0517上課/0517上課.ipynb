{
  "nbformat": 4,
  "nbformat_minor": 0,
  "metadata": {
    "colab": {
      "provenance": [],
      "authorship_tag": "ABX9TyO7R7UO8Q/R92c5YHxFg/gX",
      "include_colab_link": true
    },
    "kernelspec": {
      "name": "python3",
      "display_name": "Python 3"
    },
    "language_info": {
      "name": "python"
    }
  },
  "cells": [
    {
      "cell_type": "markdown",
      "metadata": {
        "id": "view-in-github",
        "colab_type": "text"
      },
      "source": [
        "<a href=\"https://colab.research.google.com/github/annie-lai/2025pythonDataClass/blob/main/0517%E4%B8%8A%E8%AA%B2/0517%E4%B8%8A%E8%AA%B2.ipynb\" target=\"_parent\"><img src=\"https://colab.research.google.com/assets/colab-badge.svg\" alt=\"Open In Colab\"/></a>"
      ]
    },
    {
      "cell_type": "markdown",
      "source": [
        "結構化程式碼、結構化專案\n",
        "\n",
        "在本地端（電腦）編輯軟體：\n",
        "- anaconda：開發程式，檔案很大，適合初學者\n",
        "- PyCharm：開發python，要錢\n",
        "- **Visual Studio Code**：免費、好用、功能強、open source（github有vscode）\n",
        " 1. 安裝\n",
        " 2. use AI：不設定，直接\n",
        " 3. install git（要自己安裝）\n",
        " 4. 選擇介面，其他都不動\n",
        " 5. 在最左邊Extensions搜chinese，安裝繁中版：change language and restart\n",
        " 6. 安裝Git：Standalone Installer→Git for Windows/x64 Setup.\n",
        " - 全部直接next到安裝\n",
        " - git終端機運作\n",
        " - 命令列：cmd、powershell、git bash\n",
        " 7. VScode重開，左下角點開，終端機→下拉符號預設終端機選cmd，終止現在的終端機（垃圾桶）再重開，就會出現cmd，選+可以找到\n",
        " 8. 找老師的python/vscode 基本設定 和 git的基本設定\n",
        " - 在cmd輸入\n",
        " ```\n",
        " git config --global user.name \"annielai\"\n",
        " git config --global user.email \"annie87131@gmail.com\"\n",
        " git config --global pull.rebase false\n",
        " ```\n",
        " -輸入完畢即設定完成，輸入\n",
        " ```\n",
        " git config list\n",
        " ```\n",
        " 能看到\n",
        " ```\n",
        "user.name=annielai\n",
        "user.email=annie87131@gmail.com\n",
        "pull.rebase=false\n",
        "```\n",
        "---\n",
        "cmd：\n",
        "- 方向鍵往上：會出現前面有輸入過的命令\n",
        "- 窗格太小沒跑完，方向鍵往下可以繼續跑\n",
        "- 按Q直接進到輸入新的命令\n",
        "---\n",
        "9. 與gitHub連動：左方功能列選「原始檔控制」→「複製存放庫（repository）」→gitHub登入授權，選專案資料夾→存在文件，新增gitHub資料夾\n",
        "---\n",
        "python在同一個電腦可以同時灌很多不同版本\n",
        "\n",
        "本機電腦：\n",
        "- 專案（資料夾）\n",
        "- 每個專案要對應一個**虛擬環境**：要手動建立\n",
        " - python\n",
        " - pip 安裝套件\n",
        " - package 安裝套件資料夾\n",
        "\n",
        "安裝mini conda（老師的python資料夾下有）\n"
      ],
      "metadata": {
        "id": "3IwvZwxr18ga"
      }
    },
    {
      "cell_type": "code",
      "execution_count": null,
      "metadata": {
        "id": "1EzPraczyapM"
      },
      "outputs": [],
      "source": []
    }
  ]
}