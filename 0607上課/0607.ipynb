{
  "nbformat": 4,
  "nbformat_minor": 0,
  "metadata": {
    "colab": {
      "provenance": [],
      "authorship_tag": "ABX9TyOKw2CYCOxgbS3kK9e2AvHj",
      "include_colab_link": true
    },
    "kernelspec": {
      "name": "python3",
      "display_name": "Python 3"
    },
    "language_info": {
      "name": "python"
    }
  },
  "cells": [
    {
      "cell_type": "markdown",
      "metadata": {
        "id": "view-in-github",
        "colab_type": "text"
      },
      "source": [
        "<a href=\"https://colab.research.google.com/github/annie-lai/2025pythonDataClass/blob/main/0607%E4%B8%8A%E8%AA%B2/0607.ipynb\" target=\"_parent\"><img src=\"https://colab.research.google.com/assets/colab-badge.svg\" alt=\"Open In Colab\"/></a>"
      ]
    },
    {
      "cell_type": "code",
      "execution_count": null,
      "metadata": {
        "id": "93FzfnJm9uYw"
      },
      "outputs": [],
      "source": []
    },
    {
      "cell_type": "markdown",
      "source": [
        "檔案格式：\n",
        "- csv：簡單的表格資料（欄+列）\n",
        "- excel：簡單的表格資料，有分頁（人和人交換）\n",
        "- json：javascript的object，複雜的資料類型，常用於網路資料交換（網路溝通）\n",
        "\n",
        "AI協助寫code：\n",
        "- github copilot：要錢\n",
        "- gemini code assist：免費但跑很慢\n",
        "---\n",
        "可以看LLM排名：\n",
        "https://lmarena.ai/leaderboard\n",
        "\n",
        "---\n",
        "\n",
        "\n",
        "##檔案實體（一個東西）\n",
        "- 實體屬性：儲存資料\n",
        " - attribute\n",
        " - property\n",
        " - encoding\n",
        "- 實體方法：\n",
        " - method()\n",
        "- 實體.實體屬性：查看屬性\n",
        "- 實體.實體方法()：用方法操作\n",
        "\n",
        "```\n",
        "file.read()\n",
        "```\n",
        "**知道資料型別才能決定要怎麼操作這個實體**\n",
        "- 用type()知道資料型別\n",
        "\n",
        "\n",
        "##讀檔與存檔\n",
        "純文字檔用open()讀\n",
        "```\n",
        "open(file, mode='r', buffering=-1, encoding=None, errors=None, newline=None, closefd=True, opener=None)\n",
        "```\n",
        "open()\n",
        "- file：檔案路徑\n",
        "- mode：讀取模式，預設為r（read，讀取）\n",
        "- encoding：讀取檔案類型\n",
        "- 使用open()方法建立的檔案物件（file實體）要呼叫close()來關閉\n",
        "```\n",
        "#直接呈現程式讀取的內容\n",
        "file.read()\n",
        "#呈現看到的內容\n",
        "print(file.read())\n",
        "```\n",
        "\n"
      ],
      "metadata": {
        "id": "hb5BIqItAuB8"
      }
    },
    {
      "cell_type": "code",
      "source": [
        "file = open(\"prsk_birthday.txt\",encoding=\"utf8\")\n",
        "file.encoding #傳出編碼\n",
        "file.read() #傳出程式看這個資料的儲存內容\n",
        "print(file.read())"
      ],
      "metadata": {
        "id": "dh4L4hVkQPtM"
      },
      "execution_count": null,
      "outputs": []
    },
    {
      "cell_type": "markdown",
      "source": [
        "##gemini code assist的回答\n",
        "\n",
        "儲存格 [3] (id: b4d727ac):\n",
        "```\n",
        "file.read()\n",
        "```\n",
        "read()：\n",
        "- 從檔案的目前位置讀取所有剩餘的內容，直到檔案末尾，並將其作為一個單一的字串回傳。\n",
        "- 執行完檔案的讀取指標 (file pointer) 會停在檔案的最末端。\n",
        "\n",
        "儲存格 [6] (id: cf9502b7):\n",
        "```\n",
        "file.readlines()\n",
        "```\n",
        "file.readlines()：從檔案指標的目前位置開始讀取所有行。\n",
        "- 先跑file.read()會將指標移到檔案末尾，所以 file.readlines() 沒有內容能讀取，就會回傳空列表 []。\n",
        "\n",
        "簡單來說，檔案就像一本書，讀取指標就像書籤：\n",
        "- file.read() 把整本書從頭到尾讀了一遍，書籤自然就放在了書的最後一頁。\n",
        "- file.readlines() 想從書籤的位置開始逐行閱讀，但因為書籤已經在最後了，後面沒有任何內容，所以什麼都讀不到。\n",
        "\n",
        "如果要再次讀取檔案內容，可以將檔案指標移回檔案開頭： 使用 file.seek(0) 方法將檔案指標重新設定到檔案的開頭。\n",
        "\n",
        "```\n",
        "# 假設 file 已經被 open() 且 file.read() 已被呼叫過\n",
        "file.seek(0)  # 將指標移回檔案開頭\n",
        "lines = file.readlines() # 現在就可以成功讀取所有行了\n",
        "print(lines)\n",
        "```\n",
        "關閉檔案後重新開啟： 這會得到一個全新的檔案物件，其指標預設在檔案的開頭。\n",
        "\n",
        "```\n",
        "file.close() # 先關閉之前的檔案物件\n",
        "file = open(\"prsk_birthday.txt\", encoding=\"utf-8\") # 重新開啟\n",
        "lines = file.readlines()\n",
        "print(lines)\n",
        "# 記得操作完畢後要 file.close()\n",
        "```\n",
        "with open(...) as ...: 無論檔案操作過程中是否發生錯誤，with 區塊結束時都會自動關閉檔案 (f.close())，可以避免忘記關閉檔案而導致的資源洩漏或其他問題。\n",
        "```\n",
        "# 使用 with 語法開啟檔案，確保讀取完後自動關閉檔案\n",
        "with open(\"prsk_birthday.txt\", \"r\", encoding=\"utf-8\") as f:\n",
        "    content = f.read()  # 一次讀取全部內容，回傳字串\n",
        "    print(content)\n",
        "```\n",
        "注意：使用 with 時，如果在同一個 with 區塊內先呼叫 f.read()，然後再呼叫 f.readlines()，也會遇到相同的指標問題，還是會需要f.seek(0)。"
      ],
      "metadata": {
        "id": "61oQrNx5fCIe"
      }
    },
    {
      "cell_type": "markdown",
      "source": [
        "csv檔：Comma-Separated Values（逗號分隔）：一行代表一筆記錄，欄位資料以「,」分隔\n",
        "\n",
        "rainbow CSV：讓csv檔讀取時有顏色，比較易讀\n",
        "\n",
        "```\n",
        "#stack的資料類型是list\n",
        "stack:list\n",
        "#stack的資料類型是list裡有list\n",
        "stack:list[list]\n",
        "```\n"
      ],
      "metadata": {
        "id": "8nePZJeV4f5U"
      }
    },
    {
      "cell_type": "markdown",
      "source": [
        "pip：套件管理程式\n",
        "```\n",
        "#看目前有哪些套件\n",
        "pip list\n",
        "```\n",
        "內部套件：可以直接用\n",
        "\n",
        "外部套件：在開發者共同的開源模型找，要用pip安裝，存到site_package\n",
        "- pypi:python的開源模型，python是open source，都是免費的\n",
        "- github也有很多開源模型\n",
        "- 在一個虛擬環境下安裝，另一個虛擬環境不會有\n",
        "\n",
        "要在專案根目錄放有什麼套件：requirements.txt，列出要安裝的外部套件\n",
        "\n",
        "> bash\n",
        "\n",
        "```\n",
        "#安裝所有需要的外部套件\n",
        "pip install -r requirements.txt\n",
        "```\n",
        "\n",
        "*bash就是在終端機打字"
      ],
      "metadata": {
        "id": "iV5W3hF_Ik40"
      }
    }
  ]
}