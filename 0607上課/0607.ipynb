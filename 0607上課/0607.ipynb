{
  "nbformat": 4,
  "nbformat_minor": 0,
  "metadata": {
    "colab": {
      "provenance": [],
      "authorship_tag": "ABX9TyMo1528bx4xosTzDXn7Ae0J",
      "include_colab_link": true
    },
    "kernelspec": {
      "name": "python3",
      "display_name": "Python 3"
    },
    "language_info": {
      "name": "python"
    }
  },
  "cells": [
    {
      "cell_type": "markdown",
      "metadata": {
        "id": "view-in-github",
        "colab_type": "text"
      },
      "source": [
        "<a href=\"https://colab.research.google.com/github/annie-lai/2025pythonDataClass/blob/main/0607%E4%B8%8A%E8%AA%B2/0607.ipynb\" target=\"_parent\"><img src=\"https://colab.research.google.com/assets/colab-badge.svg\" alt=\"Open In Colab\"/></a>"
      ]
    },
    {
      "cell_type": "code",
      "execution_count": null,
      "metadata": {
        "id": "93FzfnJm9uYw"
      },
      "outputs": [],
      "source": []
    },
    {
      "cell_type": "markdown",
      "source": [
        "檔案格式：\n",
        "- csv：簡單的表格資料（欄+列）\n",
        "- excel：簡單的表格資料，有分頁（人和人交換）\n",
        "- json：javascript的object，複雜的資料類型，常用於網路資料交換（網路溝通）\n",
        "\n",
        "AI協助寫code：\n",
        "- github copilot：要錢\n",
        "- gemini code assist：免費但跑很慢\n",
        "\n",
        "##檔案實體（一個東西）\n",
        "- 實體屬性：儲存資料\n",
        " - attribute\n",
        " - property\n",
        " - encoding\n",
        "- 實體方法：\n",
        " - method()\n",
        "- 實體.實體屬性：查看屬性\n",
        "- 實體.實體方法()：用方法操作\n",
        "\n",
        "```\n",
        "file.read()\n",
        "```\n",
        "**知道資料型別才能決定要怎麼操作這個實體**\n",
        "- 用type()知道資料型別\n",
        "\n",
        "\n",
        "##讀檔與存檔\n",
        "```\n",
        "open(file, mode='r', buffering=-1, encoding=None, errors=None, newline=None, closefd=True, opener=None)\n",
        "```\n",
        "open()\n",
        "- file：檔案路徑\n",
        "- mode：讀取模式，預設為r（read，讀取）\n",
        "- encoding：讀取檔案類型\n",
        "\n",
        "```\n",
        "\n",
        "\n",
        "\n",
        "\n",
        "\n",
        "\n",
        "讀取csv檔\n"
      ],
      "metadata": {
        "id": "hb5BIqItAuB8"
      }
    },
    {
      "cell_type": "code",
      "source": [
        "file = open(\"prsk_birthday.txt\",encoding=\"utf8\")\n",
        "file.encoding #傳出編碼\n",
        "file.read() #傳出程式看這個資料的儲存內容\n",
        "print(file.read())"
      ],
      "metadata": {
        "id": "dh4L4hVkQPtM"
      },
      "execution_count": null,
      "outputs": []
    }
  ]
}